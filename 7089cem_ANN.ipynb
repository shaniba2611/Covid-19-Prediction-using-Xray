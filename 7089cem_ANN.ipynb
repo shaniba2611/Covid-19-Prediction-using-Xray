{
  "cells": [
    {
      "cell_type": "code",
      "execution_count": 1,
      "metadata": {
        "id": "Y1HhlTPtbelS"
      },
      "outputs": [],
      "source": [
        "# import the necessary packages\n",
        "from tensorflow.keras.preprocessing.image import ImageDataGenerator\n",
        "from tensorflow.keras.applications import VGG16\n",
        "from tensorflow.keras.layers import AveragePooling2D\n",
        "from tensorflow.keras.layers import Dropout\n",
        "from tensorflow.keras.layers import Flatten\n",
        "from tensorflow.keras.layers import Dense\n",
        "from tensorflow.keras.layers import Input\n",
        "from tensorflow.keras.models import Model\n",
        "from tensorflow.keras.optimizers import Adam\n",
        "from tensorflow.keras.utils import to_categorical\n",
        "from sklearn.preprocessing import LabelBinarizer\n",
        "from sklearn.model_selection import train_test_split\n",
        "from sklearn.metrics import classification_report\n",
        "from sklearn.metrics import confusion_matrix\n",
        "from imutils import paths\n",
        "import matplotlib.pyplot as plt\n",
        "import numpy as np\n",
        "import argparse\n",
        "import cv2\n",
        "import os\n",
        "#from keras.applications.resnet50 import ResNet50\n",
        "from tensorflow.keras.applications.resnet50 import ResNet50\n",
        "from keras.preprocessing import image\n",
        "from tensorflow.keras.applications.resnet50 import preprocess_input, decode_predictions\n",
        "import numpy as np\n"
      ]
    },
    {
      "cell_type": "code",
      "execution_count": 2,
      "metadata": {
        "colab": {
          "base_uri": "https://localhost:8080/"
        },
        "id": "_5MI5rY0byeF",
        "outputId": "12522444-1ff6-4bd8-ce0c-6afd84b99d22"
      },
      "outputs": [
        {
          "output_type": "stream",
          "name": "stdout",
          "text": [
            "Mounted at /content/drive\n"
          ]
        }
      ],
      "source": [
        "from google.colab import drive\n",
        "drive.mount('/content/drive')"
      ]
    },
    {
      "cell_type": "code",
      "execution_count": 23,
      "metadata": {
        "id": "MBQGUCGlbyhY"
      },
      "outputs": [],
      "source": [
        "import os\n",
        "import numpy as np\n",
        "import pandas as pd\n",
        "import seaborn as sns\n",
        "import matplotlib.pyplot as plt\n",
        "import matplotlib.image as mpimg\n",
        "import seaborn as sns\n",
        "from PIL import Image\n",
        "from tensorflow.keras.preprocessing import image\n",
        "from tensorflow.keras.preprocessing.image import load_img, img_to_array\n",
        "from tensorflow.keras.applications.vgg16 import preprocess_input\n",
        "from tensorflow.keras.utils import to_categorical\n",
        "from tensorflow.keras.callbacks import ModelCheckpoint, EarlyStopping\n",
        "from tensorflow.keras.models import Sequential\n",
        "from tensorflow.keras.layers import Dense, Dropout, BatchNormalization, Conv2D, MaxPool2D, Flatten\n",
        "from sklearn.metrics import classification_report, confusion_matrix, accuracy_score"
      ]
    },
    {
      "cell_type": "code",
      "execution_count": 3,
      "metadata": {
        "colab": {
          "base_uri": "https://localhost:8080/"
        },
        "id": "SnEgI6cCrrMK",
        "outputId": "e64c15f3-7bd3-45c8-8a52-06d53dd418e7"
      },
      "outputs": [
        {
          "output_type": "stream",
          "name": "stdout",
          "text": [
            "Cloning into 'Classification-of-COVID-19-chest-X-ray-images'...\n",
            "remote: Enumerating objects: 239, done.\u001b[K\n",
            "remote: Counting objects: 100% (16/16), done.\u001b[K\n",
            "remote: Compressing objects: 100% (15/15), done.\u001b[K\n",
            "remote: Total 239 (delta 6), reused 0 (delta 0), pack-reused 223\u001b[K\n",
            "Receiving objects: 100% (239/239), 67.41 MiB | 27.98 MiB/s, done.\n",
            "Resolving deltas: 100% (15/15), done.\n"
          ]
        }
      ],
      "source": [
        "!git clone  https://github.com/shaniba2611/Classification-of-COVID-19-chest-X-ray-images"
      ]
    },
    {
      "cell_type": "code",
      "execution_count": 117,
      "metadata": {
        "colab": {
          "base_uri": "https://localhost:8080/"
        },
        "id": "GW_CClXfbyni",
        "outputId": "e99afed6-dc26-460c-aeec-08ccd8c6f3a1"
      },
      "outputs": [
        {
          "output_type": "stream",
          "name": "stdout",
          "text": [
            "Classification-of-COVID-19-chest-X-ray-images  infected  normal\n"
          ]
        }
      ],
      "source": [
        "!ls"
      ]
    },
    {
      "cell_type": "code",
      "execution_count": 4,
      "metadata": {
        "colab": {
          "base_uri": "https://localhost:8080/"
        },
        "id": "MP1MppJlbyqf",
        "outputId": "55e777dd-9806-416b-a3e7-cd07cda343e9"
      },
      "outputs": [
        {
          "output_type": "stream",
          "name": "stdout",
          "text": [
            "/content/Classification-of-COVID-19-chest-X-ray-images\n"
          ]
        }
      ],
      "source": [
        "cd Classification-of-COVID-19-chest-X-ray-images "
      ]
    },
    {
      "cell_type": "code",
      "execution_count": null,
      "metadata": {
        "colab": {
          "base_uri": "https://localhost:8080/"
        },
        "id": "Cx89yjR8bytX",
        "outputId": "95451d44-af7b-4569-9925-e450575f100d"
      },
      "outputs": [
        {
          "output_type": "stream",
          "name": "stdout",
          "text": [
            "aditi-godbole-model.py\t covid19_internship_project.ipynb  dataset\n",
            "aditi-verma-model.py\t covid19_project.ipynb\t\t   README.md\n",
            "aditya-babar-model.py\t covid19_project_pruning.ipynb\t   vaibhav-model.py\n",
            "aditya-gurnani-model.py  covid_VGG16.ipynb\n"
          ]
        }
      ],
      "source": [
        "!ls"
      ]
    },
    {
      "cell_type": "code",
      "execution_count": 5,
      "metadata": {
        "colab": {
          "base_uri": "https://localhost:8080/"
        },
        "id": "2aP5G9BgbywT",
        "outputId": "fbb91aa1-cb2b-4735-a5c9-6163ea7aa67e"
      },
      "outputs": [
        {
          "output_type": "stream",
          "name": "stdout",
          "text": [
            "/content/Classification-of-COVID-19-chest-X-ray-images/dataset\n"
          ]
        }
      ],
      "source": [
        "cd dataset"
      ]
    },
    {
      "cell_type": "code",
      "execution_count": null,
      "metadata": {
        "colab": {
          "base_uri": "https://localhost:8080/"
        },
        "id": "IW4yh5cDbyzf",
        "outputId": "3b0a6475-c1ca-4fbe-b7dd-50112529e6c4"
      },
      "outputs": [
        {
          "output_type": "stream",
          "name": "stdout",
          "text": [
            "evaluation  testing  training\n"
          ]
        }
      ],
      "source": [
        "!ls"
      ]
    },
    {
      "cell_type": "code",
      "execution_count": 6,
      "metadata": {
        "colab": {
          "base_uri": "https://localhost:8080/"
        },
        "id": "r0qFPtp0by2o",
        "outputId": "0bd62a75-e79e-43bc-a845-c3bf6f847528"
      },
      "outputs": [
        {
          "output_type": "stream",
          "name": "stdout",
          "text": [
            "/content/Classification-of-COVID-19-chest-X-ray-images/dataset/training\n"
          ]
        }
      ],
      "source": [
        "cd training"
      ]
    },
    {
      "cell_type": "code",
      "execution_count": null,
      "metadata": {
        "colab": {
          "base_uri": "https://localhost:8080/"
        },
        "id": "un5DmYQBby51",
        "outputId": "780ade3b-f99a-4de1-ebf7-4595d4f3bd69"
      },
      "outputs": [
        {
          "output_type": "stream",
          "name": "stdout",
          "text": [
            "infected  normal\n"
          ]
        }
      ],
      "source": [
        "!ls"
      ]
    },
    {
      "cell_type": "code",
      "execution_count": 7,
      "metadata": {
        "id": "xUdmaX4iby80"
      },
      "outputs": [],
      "source": [
        "tr_normal_path='/content/Classification-of-COVID-19-chest-X-ray-images/dataset/training/normal'\n",
        "tr_infected_path='/content/Classification-of-COVID-19-chest-X-ray-images/dataset/training/infected'\n",
        "tst_normal_path='/content/Classification-of-COVID-19-chest-X-ray-images/dataset/testing/normal'\n",
        "tst_infected_path='/content/Classification-of-COVID-19-chest-X-ray-images/dataset/testing/infected'\n",
        "val_normal_path='/content/Classification-of-COVID-19-chest-X-ray-images/dataset/evaluation/normal'\n",
        "val_infected_path='/content/Classification-of-COVID-19-chest-X-ray-images/dataset/evaluation/infected'"
      ]
    },
    {
      "cell_type": "code",
      "execution_count": 8,
      "metadata": {
        "colab": {
          "base_uri": "https://localhost:8080/"
        },
        "id": "wLKMXM4Iby_2",
        "outputId": "73ed2ca5-412d-4d4e-a5ff-bc2fbb51b11b"
      },
      "outputs": [
        {
          "output_type": "stream",
          "name": "stdout",
          "text": [
            "tr_normal cases  1\n",
            "tr_infected cases  90\n",
            "tst_normal cases  1\n",
            "tst_infected cases  1\n",
            "val_normal cases  1\n",
            "val_infected cases  1\n"
          ]
        }
      ],
      "source": [
        "print('tr_normal cases ',len(os.listdir('/content/Classification-of-COVID-19-chest-X-ray-images/dataset/training/normal')))\n",
        "print('tr_infected cases ',len(os.listdir('/content/Classification-of-COVID-19-chest-X-ray-images/dataset/training/infected')))\n",
        "print('tst_normal cases ',len(os.listdir('/content/Classification-of-COVID-19-chest-X-ray-images/dataset/testing/normal')))\n",
        "print('tst_infected cases ',len(os.listdir('/content/Classification-of-COVID-19-chest-X-ray-images/dataset/testing/infected')))\n",
        "print('val_normal cases ',len(os.listdir('/content/Classification-of-COVID-19-chest-X-ray-images/dataset/evaluation/normal')))\n",
        "print('val_infected cases ',len(os.listdir('/content/Classification-of-COVID-19-chest-X-ray-images/dataset/evaluation/infected')))"
      ]
    },
    {
      "cell_type": "code",
      "execution_count": 9,
      "metadata": {
        "id": "fprai0hvbzCz"
      },
      "outputs": [],
      "source": [
        "IMAGE_SIZE = (224,224)\n",
        "DIR_NAME = '/content/Classification-of-COVID-19-chest-X-ray-images/dataset/'\n",
        "IMAGE_DIR = DIR_NAME + 'normal/'\n",
        "imagePaths=[]\n",
        "for dirname, _, filenames in os.walk(DIR_NAME):\n",
        "    for filename in filenames:\n",
        "      imagePaths.append(os.path.join(dirname, filename))"
      ]
    },
    {
      "cell_type": "code",
      "execution_count": 10,
      "metadata": {
        "id": "Fu6Sv-yibzF9",
        "colab": {
          "base_uri": "https://localhost:8080/"
        },
        "outputId": "4b44b5d8-539e-445c-b3a8-437153115128"
      },
      "outputs": [
        {
          "output_type": "execute_result",
          "data": {
            "text/plain": [
              "['/content/Classification-of-COVID-19-chest-X-ray-images/dataset/training/normal/1.jpeg',\n",
              " '/content/Classification-of-COVID-19-chest-X-ray-images/dataset/training/infected/covid_train72.png',\n",
              " '/content/Classification-of-COVID-19-chest-X-ray-images/dataset/training/infected/covid_train87.jpeg',\n",
              " '/content/Classification-of-COVID-19-chest-X-ray-images/dataset/training/infected/covid_train88.jpeg',\n",
              " '/content/Classification-of-COVID-19-chest-X-ray-images/dataset/training/infected/covid_train15.png',\n",
              " '/content/Classification-of-COVID-19-chest-X-ray-images/dataset/training/infected/covid_train6.jpg',\n",
              " '/content/Classification-of-COVID-19-chest-X-ray-images/dataset/training/infected/covid_train28.jpeg',\n",
              " '/content/Classification-of-COVID-19-chest-X-ray-images/dataset/training/infected/covid_train69.jpg',\n",
              " '/content/Classification-of-COVID-19-chest-X-ray-images/dataset/training/infected/covid_train26.jpeg',\n",
              " '/content/Classification-of-COVID-19-chest-X-ray-images/dataset/training/infected/covid_train55.jpg',\n",
              " '/content/Classification-of-COVID-19-chest-X-ray-images/dataset/training/infected/covid_train30.jpeg',\n",
              " '/content/Classification-of-COVID-19-chest-X-ray-images/dataset/training/infected/covid_train79.jpeg',\n",
              " '/content/Classification-of-COVID-19-chest-X-ray-images/dataset/training/infected/covid_train75.jpg',\n",
              " '/content/Classification-of-COVID-19-chest-X-ray-images/dataset/training/infected/covid_train81.jpeg',\n",
              " '/content/Classification-of-COVID-19-chest-X-ray-images/dataset/training/infected/covid_train53.png',\n",
              " '/content/Classification-of-COVID-19-chest-X-ray-images/dataset/training/infected/covid_train44.jpeg',\n",
              " '/content/Classification-of-COVID-19-chest-X-ray-images/dataset/training/infected/covid_train33.jpeg',\n",
              " '/content/Classification-of-COVID-19-chest-X-ray-images/dataset/training/infected/covid_train86.jpeg',\n",
              " '/content/Classification-of-COVID-19-chest-X-ray-images/dataset/training/infected/covid_train67.jpg',\n",
              " '/content/Classification-of-COVID-19-chest-X-ray-images/dataset/training/infected/covid_train64.jpg',\n",
              " '/content/Classification-of-COVID-19-chest-X-ray-images/dataset/training/infected/covid_train7.jpg',\n",
              " '/content/Classification-of-COVID-19-chest-X-ray-images/dataset/training/infected/covid_train38.jpeg',\n",
              " '/content/Classification-of-COVID-19-chest-X-ray-images/dataset/training/infected/covid_train60.png',\n",
              " '/content/Classification-of-COVID-19-chest-X-ray-images/dataset/training/infected/covid_train76.jpg',\n",
              " '/content/Classification-of-COVID-19-chest-X-ray-images/dataset/training/infected/covid_train83.png',\n",
              " '/content/Classification-of-COVID-19-chest-X-ray-images/dataset/training/infected/covid_train23.jpeg',\n",
              " '/content/Classification-of-COVID-19-chest-X-ray-images/dataset/training/infected/covid_train20.jpeg',\n",
              " '/content/Classification-of-COVID-19-chest-X-ray-images/dataset/training/infected/covid_train49.jpg',\n",
              " '/content/Classification-of-COVID-19-chest-X-ray-images/dataset/training/infected/covid_train80.jpeg',\n",
              " '/content/Classification-of-COVID-19-chest-X-ray-images/dataset/training/infected/covid_train5.jpg',\n",
              " '/content/Classification-of-COVID-19-chest-X-ray-images/dataset/training/infected/covid_train22.jpeg',\n",
              " '/content/Classification-of-COVID-19-chest-X-ray-images/dataset/training/infected/covid_train18.png',\n",
              " '/content/Classification-of-COVID-19-chest-X-ray-images/dataset/training/infected/covid_train52.jpg',\n",
              " '/content/Classification-of-COVID-19-chest-X-ray-images/dataset/training/infected/covid_train62.png',\n",
              " '/content/Classification-of-COVID-19-chest-X-ray-images/dataset/training/infected/covid_train21.png',\n",
              " '/content/Classification-of-COVID-19-chest-X-ray-images/dataset/training/infected/covid_train42.jpeg',\n",
              " '/content/Classification-of-COVID-19-chest-X-ray-images/dataset/training/infected/covid_train61.jpg',\n",
              " '/content/Classification-of-COVID-19-chest-X-ray-images/dataset/training/infected/covid_train40.jpeg',\n",
              " '/content/Classification-of-COVID-19-chest-X-ray-images/dataset/training/infected/covid_train8.png',\n",
              " '/content/Classification-of-COVID-19-chest-X-ray-images/dataset/training/infected/covid_train65.jpg',\n",
              " '/content/Classification-of-COVID-19-chest-X-ray-images/dataset/training/infected/covid_train39.jpeg',\n",
              " '/content/Classification-of-COVID-19-chest-X-ray-images/dataset/training/infected/covid_train14.png',\n",
              " '/content/Classification-of-COVID-19-chest-X-ray-images/dataset/training/infected/covid_train2.jpeg',\n",
              " '/content/Classification-of-COVID-19-chest-X-ray-images/dataset/training/infected/covid_train9.png',\n",
              " '/content/Classification-of-COVID-19-chest-X-ray-images/dataset/training/infected/covid_train27.jpeg',\n",
              " '/content/Classification-of-COVID-19-chest-X-ray-images/dataset/training/infected/covid_train57.jpg',\n",
              " '/content/Classification-of-COVID-19-chest-X-ray-images/dataset/training/infected/covid_train77.jpeg',\n",
              " '/content/Classification-of-COVID-19-chest-X-ray-images/dataset/training/infected/covid_train41.jpeg',\n",
              " '/content/Classification-of-COVID-19-chest-X-ray-images/dataset/training/infected/covid_train4.jpg',\n",
              " '/content/Classification-of-COVID-19-chest-X-ray-images/dataset/training/infected/covid_train51.png',\n",
              " '/content/Classification-of-COVID-19-chest-X-ray-images/dataset/training/infected/covid_train1.jpeg',\n",
              " '/content/Classification-of-COVID-19-chest-X-ray-images/dataset/training/infected/covid_train45.jpeg',\n",
              " '/content/Classification-of-COVID-19-chest-X-ray-images/dataset/training/infected/covid_train74.jpeg',\n",
              " '/content/Classification-of-COVID-19-chest-X-ray-images/dataset/training/infected/covid_train29.jpeg',\n",
              " '/content/Classification-of-COVID-19-chest-X-ray-images/dataset/training/infected/covid_train50.png',\n",
              " '/content/Classification-of-COVID-19-chest-X-ray-images/dataset/training/infected/covid_train84.jpeg',\n",
              " '/content/Classification-of-COVID-19-chest-X-ray-images/dataset/training/infected/covid_train19.jpeg',\n",
              " '/content/Classification-of-COVID-19-chest-X-ray-images/dataset/training/infected/covid_train54.jpg',\n",
              " '/content/Classification-of-COVID-19-chest-X-ray-images/dataset/training/infected/covid_train36.jpeg',\n",
              " '/content/Classification-of-COVID-19-chest-X-ray-images/dataset/training/infected/covid_train59.png',\n",
              " '/content/Classification-of-COVID-19-chest-X-ray-images/dataset/training/infected/covid_train43.jpeg',\n",
              " '/content/Classification-of-COVID-19-chest-X-ray-images/dataset/training/infected/covid_train66.jpg',\n",
              " '/content/Classification-of-COVID-19-chest-X-ray-images/dataset/training/infected/covid_train25.jpeg',\n",
              " '/content/Classification-of-COVID-19-chest-X-ray-images/dataset/training/infected/covid_train68.jpg',\n",
              " '/content/Classification-of-COVID-19-chest-X-ray-images/dataset/training/infected/covid_train56.jpg',\n",
              " '/content/Classification-of-COVID-19-chest-X-ray-images/dataset/training/infected/covid_train35.jpeg',\n",
              " '/content/Classification-of-COVID-19-chest-X-ray-images/dataset/training/infected/covid_train82.jpeg',\n",
              " '/content/Classification-of-COVID-19-chest-X-ray-images/dataset/training/infected/covid_train70.jpg',\n",
              " '/content/Classification-of-COVID-19-chest-X-ray-images/dataset/training/infected/covid_train24.jpeg',\n",
              " '/content/Classification-of-COVID-19-chest-X-ray-images/dataset/training/infected/covid_train89.jpeg',\n",
              " '/content/Classification-of-COVID-19-chest-X-ray-images/dataset/training/infected/covid_train37.jpeg',\n",
              " '/content/Classification-of-COVID-19-chest-X-ray-images/dataset/training/infected/covid_train73.jpeg',\n",
              " '/content/Classification-of-COVID-19-chest-X-ray-images/dataset/training/infected/covid_train13.png',\n",
              " '/content/Classification-of-COVID-19-chest-X-ray-images/dataset/training/infected/covid_train46.png',\n",
              " '/content/Classification-of-COVID-19-chest-X-ray-images/dataset/training/infected/covid_train32.jpeg',\n",
              " '/content/Classification-of-COVID-19-chest-X-ray-images/dataset/training/infected/covid_train34.jpeg',\n",
              " '/content/Classification-of-COVID-19-chest-X-ray-images/dataset/training/infected/covid_train11.png',\n",
              " '/content/Classification-of-COVID-19-chest-X-ray-images/dataset/training/infected/covid_train85.jpeg',\n",
              " '/content/Classification-of-COVID-19-chest-X-ray-images/dataset/training/infected/covid_train58.png',\n",
              " '/content/Classification-of-COVID-19-chest-X-ray-images/dataset/training/infected/1.jpeg',\n",
              " '/content/Classification-of-COVID-19-chest-X-ray-images/dataset/training/infected/covid_train3.jpg',\n",
              " '/content/Classification-of-COVID-19-chest-X-ray-images/dataset/training/infected/covid_train78.jpeg',\n",
              " '/content/Classification-of-COVID-19-chest-X-ray-images/dataset/training/infected/covid_train63.jpg',\n",
              " '/content/Classification-of-COVID-19-chest-X-ray-images/dataset/training/infected/covid_train31.jpeg',\n",
              " '/content/Classification-of-COVID-19-chest-X-ray-images/dataset/training/infected/covid_train17.png',\n",
              " '/content/Classification-of-COVID-19-chest-X-ray-images/dataset/training/infected/covid_train10.png',\n",
              " '/content/Classification-of-COVID-19-chest-X-ray-images/dataset/training/infected/covid_train16.png',\n",
              " '/content/Classification-of-COVID-19-chest-X-ray-images/dataset/training/infected/covid_train47.png',\n",
              " '/content/Classification-of-COVID-19-chest-X-ray-images/dataset/training/infected/covid_train48.png',\n",
              " '/content/Classification-of-COVID-19-chest-X-ray-images/dataset/training/infected/covid_train71.jpg',\n",
              " '/content/Classification-of-COVID-19-chest-X-ray-images/dataset/training/infected/covid_train12.png',\n",
              " '/content/Classification-of-COVID-19-chest-X-ray-images/dataset/testing/normal/1.jpeg',\n",
              " '/content/Classification-of-COVID-19-chest-X-ray-images/dataset/testing/infected/1.jpg',\n",
              " '/content/Classification-of-COVID-19-chest-X-ray-images/dataset/evaluation/normal/1.jpeg',\n",
              " '/content/Classification-of-COVID-19-chest-X-ray-images/dataset/evaluation/infected/1.jpg']"
            ]
          },
          "metadata": {},
          "execution_count": 10
        }
      ],
      "source": [
        "imagePaths"
      ]
    },
    {
      "cell_type": "code",
      "execution_count": 11,
      "metadata": {
        "id": "L9ZVlp9wbzJG"
      },
      "outputs": [],
      "source": [
        "data = []\n",
        "labels = []\n",
        "# loop over the imagepaths\n",
        "for imagePath in imagePaths:\n",
        "\t# extract the class label from the filename\n",
        "\tlabel = imagePath.split(os.path.sep)[-2]\n",
        "\t# load the images, swaps color channels, and resize it\n",
        "\t# 224x224 pixels\n",
        "\timage = cv2.imread(imagePath)\n",
        "\timage = cv2.cvtColor(image, cv2.COLOR_BGR2RGB)\n",
        "\timage = cv2.resize(image, (224, 224))\n",
        "\t# update the data and labels lists\n",
        "\tdata.append(image)\n",
        "\tlabels.append(label)\n",
        "# convert the data and labels to NumPy arrays while scaling the pixel\n",
        "# intensities to the range [0, 1]\n",
        "data = np.array(data) / 255.0\n",
        "labels = np.array(labels)"
      ]
    },
    {
      "cell_type": "code",
      "execution_count": null,
      "metadata": {
        "colab": {
          "base_uri": "https://localhost:8080/"
        },
        "id": "jvdKFZEMbzMH",
        "outputId": "2a59716c-33c9-4313-8203-2dcfdc6ef855"
      },
      "outputs": [
        {
          "output_type": "execute_result",
          "data": {
            "text/plain": [
              "(95, 224, 224, 3)"
            ]
          },
          "metadata": {},
          "execution_count": 19
        }
      ],
      "source": [
        "data.shape"
      ]
    },
    {
      "cell_type": "code",
      "execution_count": 12,
      "metadata": {
        "colab": {
          "base_uri": "https://localhost:8080/"
        },
        "id": "uFQLNSPxbzPR",
        "outputId": "09739d64-c4e8-4ad5-d505-bc534409a403"
      },
      "outputs": [
        {
          "output_type": "execute_result",
          "data": {
            "text/plain": [
              "array(['normal', 'infected', 'infected', 'infected', 'infected',\n",
              "       'infected', 'infected', 'infected', 'infected', 'infected',\n",
              "       'infected', 'infected', 'infected', 'infected', 'infected',\n",
              "       'infected', 'infected', 'infected', 'infected', 'infected',\n",
              "       'infected', 'infected', 'infected', 'infected', 'infected',\n",
              "       'infected', 'infected', 'infected', 'infected', 'infected',\n",
              "       'infected', 'infected', 'infected', 'infected', 'infected',\n",
              "       'infected', 'infected', 'infected', 'infected', 'infected',\n",
              "       'infected', 'infected', 'infected', 'infected', 'infected',\n",
              "       'infected', 'infected', 'infected', 'infected', 'infected',\n",
              "       'infected', 'infected', 'infected', 'infected', 'infected',\n",
              "       'infected', 'infected', 'infected', 'infected', 'infected',\n",
              "       'infected', 'infected', 'infected', 'infected', 'infected',\n",
              "       'infected', 'infected', 'infected', 'infected', 'infected',\n",
              "       'infected', 'infected', 'infected', 'infected', 'infected',\n",
              "       'infected', 'infected', 'infected', 'infected', 'infected',\n",
              "       'infected', 'infected', 'infected', 'infected', 'infected',\n",
              "       'infected', 'infected', 'infected', 'infected', 'infected',\n",
              "       'infected', 'normal', 'infected', 'normal', 'infected'],\n",
              "      dtype='<U8')"
            ]
          },
          "metadata": {},
          "execution_count": 12
        }
      ],
      "source": [
        "labels"
      ]
    },
    {
      "cell_type": "code",
      "execution_count": 13,
      "metadata": {
        "id": "QnnXEbITbzSa"
      },
      "outputs": [],
      "source": [
        "# perform one-hot encoding on the labels\n",
        "lb = LabelBinarizer()\n",
        "labels = lb.fit_transform(labels)\n",
        "labels = to_categorical(labels)\n",
        "# partition the data into training and testing splits using 80% of\n",
        "# the data for training and the remaining 20% for testing\n",
        "(trainX, testX, trainY, testY) = train_test_split(data, labels,\n",
        "\ttest_size=0.20, stratify=labels, random_state=42)\n",
        "# initialize the training data augmentation object\n",
        "trAug = ImageDataGenerator(shear_range=0.2,\n",
        "    zoom_range=0.2,\n",
        "    horizontal_flip=True,\trotation_range=15,\n",
        "\tfill_mode=\"nearest\")"
      ]
    },
    {
      "cell_type": "code",
      "execution_count": 14,
      "metadata": {
        "colab": {
          "base_uri": "https://localhost:8080/"
        },
        "id": "tqY9oExybzVh",
        "outputId": "f6c1bec0-497f-4b18-c086-90626594f9e8"
      },
      "outputs": [
        {
          "output_type": "execute_result",
          "data": {
            "text/plain": [
              "<keras.preprocessing.image.ImageDataGenerator at 0x7f27fc59da10>"
            ]
          },
          "metadata": {},
          "execution_count": 14
        }
      ],
      "source": [
        "trAug"
      ]
    },
    {
      "cell_type": "code",
      "execution_count": 15,
      "metadata": {
        "colab": {
          "base_uri": "https://localhost:8080/"
        },
        "id": "0Fcv6yRCbzYp",
        "outputId": "fc0b3f4a-2f9c-438a-d632-737350db475b"
      },
      "outputs": [
        {
          "output_type": "execute_result",
          "data": {
            "text/plain": [
              "((76, 224, 224, 3), (19, 224, 224, 3), (76, 2), (19, 2))"
            ]
          },
          "metadata": {},
          "execution_count": 15
        }
      ],
      "source": [
        "trainX.shape,testX.shape,trainY.shape,testY.shape"
      ]
    },
    {
      "cell_type": "markdown",
      "metadata": {
        "id": "EJk3TPEReu8H"
      },
      "source": [
        "VGG 16"
      ]
    },
    {
      "cell_type": "code",
      "execution_count": 20,
      "metadata": {
        "id": "gOr4Lq-Jbzbx",
        "colab": {
          "base_uri": "https://localhost:8080/"
        },
        "outputId": "dfe21410-78f9-4a39-9598-5d9a9163c11d"
      },
      "outputs": [
        {
          "output_type": "stream",
          "name": "stdout",
          "text": [
            "Downloading data from https://storage.googleapis.com/tensorflow/keras-applications/vgg16/vgg16_weights_tf_dim_ordering_tf_kernels_notop.h5\n",
            "58892288/58889256 [==============================] - 0s 0us/step\n",
            "58900480/58889256 [==============================] - 0s 0us/step\n"
          ]
        }
      ],
      "source": [
        "baseModel = VGG16(weights=\"imagenet\", include_top=False,\n",
        "\tinput_tensor=Input(shape=(224, 224, 3)))\n",
        "# construct the head of the model that will be placed on top of the\n",
        "# the base model\n",
        "headModel = baseModel.output\n",
        "headModel = AveragePooling2D(pool_size=(4, 4))(headModel)\n",
        "headModel = Flatten(name=\"flatten\")(headModel)\n",
        "headModel = Dense(64, activation=\"relu\")(headModel)\n",
        "headModel = Dropout(0.5)(headModel)\n",
        "headModel = Dense(2, activation=\"softmax\")(headModel)\n",
        "# place the head FC model on top of the base model (this will become\n",
        "# the actual model we will train)\n",
        "model = Model(inputs=baseModel.input, outputs=headModel)\n",
        "# loop over all layers in the base model and freeze them so they will\n",
        "# *not* be updated during the first training process\n",
        "for layer in baseModel.layers:\n",
        "\tlayer.trainable = False"
      ]
    },
    {
      "cell_type": "code",
      "execution_count": 24,
      "metadata": {
        "id": "zofu2Twobze5"
      },
      "outputs": [],
      "source": [
        "model_chkpt = ModelCheckpoint('best_mod.h5', save_best_only=True, monitor='accuracy')\n",
        "early_stopping = EarlyStopping(monitor='loss', restore_best_weights=False, patience=10)\n"
      ]
    },
    {
      "cell_type": "code",
      "execution_count": null,
      "metadata": {
        "colab": {
          "base_uri": "https://localhost:8080/"
        },
        "id": "cdvN1jVHbzh7",
        "outputId": "fa55d92b-f89a-431d-f4a0-c6dbb9d3801d"
      },
      "outputs": [
        {
          "output_type": "stream",
          "name": "stdout",
          "text": [
            "[INFO] compiling model...\n",
            "[INFO] training head...\n",
            "Epoch 1/25\n"
          ]
        },
        {
          "output_type": "stream",
          "name": "stderr",
          "text": [
            "/usr/local/lib/python3.7/dist-packages/keras/optimizer_v2/adam.py:105: UserWarning: The `lr` argument is deprecated, use `learning_rate` instead.\n",
            "  super(Adam, self).__init__(name, **kwargs)\n",
            "/usr/local/lib/python3.7/dist-packages/ipykernel_launcher.py:18: UserWarning: `Model.fit_generator` is deprecated and will be removed in a future version. Please use `Model.fit`, which supports generators.\n"
          ]
        },
        {
          "output_type": "stream",
          "name": "stdout",
          "text": [
            "9/9 [==============================] - 45s 5s/step - loss: 0.5046 - accuracy: 0.8382 - val_loss: 0.2820 - val_accuracy: 0.9474\n",
            "Epoch 2/25\n",
            "9/9 [==============================] - 43s 5s/step - loss: 0.2406 - accuracy: 0.9706 - val_loss: 0.2015 - val_accuracy: 0.9474\n",
            "Epoch 3/25\n",
            "9/9 [==============================] - 43s 5s/step - loss: 0.1667 - accuracy: 0.9706 - val_loss: 0.2064 - val_accuracy: 0.9474\n",
            "Epoch 4/25\n",
            "9/9 [==============================] - 43s 5s/step - loss: 0.1700 - accuracy: 0.9706 - val_loss: 0.2158 - val_accuracy: 0.9474\n",
            "Epoch 5/25\n",
            "9/9 [==============================] - 45s 5s/step - loss: 0.1587 - accuracy: 0.9706 - val_loss: 0.2287 - val_accuracy: 0.9474\n",
            "Epoch 6/25\n",
            "9/9 [==============================] - 43s 5s/step - loss: 0.1632 - accuracy: 0.9706 - val_loss: 0.2276 - val_accuracy: 0.9474\n",
            "Epoch 7/25\n",
            "9/9 [==============================] - 45s 5s/step - loss: 0.1508 - accuracy: 0.9722 - val_loss: 0.2250 - val_accuracy: 0.9474\n",
            "Epoch 8/25\n",
            "9/9 [==============================] - 45s 5s/step - loss: 0.1317 - accuracy: 0.9706 - val_loss: 0.2257 - val_accuracy: 0.9474\n",
            "Epoch 9/25\n",
            "9/9 [==============================] - 43s 5s/step - loss: 0.1511 - accuracy: 0.9706 - val_loss: 0.2285 - val_accuracy: 0.9474\n",
            "Epoch 10/25\n",
            "9/9 [==============================] - 43s 5s/step - loss: 0.1328 - accuracy: 0.9706 - val_loss: 0.2250 - val_accuracy: 0.9474\n",
            "Epoch 11/25\n",
            "9/9 [==============================] - 43s 5s/step - loss: 0.1381 - accuracy: 0.9706 - val_loss: 0.2176 - val_accuracy: 0.9474\n",
            "Epoch 12/25\n",
            "9/9 [==============================] - 43s 5s/step - loss: 0.1157 - accuracy: 0.9853 - val_loss: 0.2205 - val_accuracy: 0.9474\n",
            "Epoch 13/25\n",
            "9/9 [==============================] - 45s 5s/step - loss: 0.1438 - accuracy: 0.9706 - val_loss: 0.2234 - val_accuracy: 0.9474\n",
            "Epoch 14/25\n",
            "9/9 [==============================] - 43s 5s/step - loss: 0.1584 - accuracy: 0.9706 - val_loss: 0.2192 - val_accuracy: 0.9474\n",
            "Epoch 15/25\n",
            "9/9 [==============================] - 47s 5s/step - loss: 0.1231 - accuracy: 0.9722 - val_loss: 0.2166 - val_accuracy: 0.9474\n",
            "Epoch 16/25\n",
            "9/9 [==============================] - 43s 5s/step - loss: 0.0919 - accuracy: 0.9853 - val_loss: 0.2169 - val_accuracy: 0.9474\n",
            "Epoch 17/25\n",
            "9/9 [==============================] - 43s 5s/step - loss: 0.0339 - accuracy: 1.0000 - val_loss: 0.2249 - val_accuracy: 0.9474\n",
            "Epoch 18/25\n",
            "9/9 [==============================] - 43s 5s/step - loss: 0.1514 - accuracy: 0.9706 - val_loss: 0.2306 - val_accuracy: 0.9474\n",
            "Epoch 19/25\n",
            "9/9 [==============================] - 45s 5s/step - loss: 0.0619 - accuracy: 0.9853 - val_loss: 0.2340 - val_accuracy: 0.9474\n",
            "Epoch 20/25\n",
            "9/9 [==============================] - 43s 5s/step - loss: 0.1088 - accuracy: 0.9706 - val_loss: 0.2366 - val_accuracy: 0.9474\n",
            "Epoch 21/25\n",
            "9/9 [==============================] - 43s 5s/step - loss: 0.0809 - accuracy: 0.9853 - val_loss: 0.2348 - val_accuracy: 0.9474\n",
            "Epoch 22/25\n",
            "9/9 [==============================] - 43s 5s/step - loss: 0.0739 - accuracy: 0.9853 - val_loss: 0.2347 - val_accuracy: 0.9474\n",
            "Epoch 23/25\n",
            "9/9 [==============================] - 45s 5s/step - loss: 0.1483 - accuracy: 0.9706 - val_loss: 0.2284 - val_accuracy: 0.9474\n",
            "Epoch 24/25\n",
            "9/9 [==============================] - 43s 5s/step - loss: 0.1255 - accuracy: 0.9706 - val_loss: 0.2258 - val_accuracy: 0.9474\n",
            "Epoch 25/25\n",
            "9/9 [==============================] - 43s 5s/step - loss: 0.1333 - accuracy: 0.9706 - val_loss: 0.2158 - val_accuracy: 0.9474\n"
          ]
        }
      ],
      "source": [
        "# initialize the initial learning rate, number of epochs to train for,\n",
        "# and batch size\n",
        "INIT_LR = 1e-3\n",
        "EPOCHS = 25\n",
        "BS = 8\n",
        "# compile our model\n",
        "print(\"[INFO] compiling model...\")\n",
        "opt = Adam(lr=INIT_LR, decay=INIT_LR / EPOCHS)\n",
        "model.compile(loss=\"binary_crossentropy\", optimizer=opt,\n",
        "\tmetrics=[\"accuracy\"])\n",
        "# train the head of the network\n",
        "print(\"[INFO] training head...\")\n",
        "H = model.fit_generator(\n",
        "\ttrAug.flow(trainX, trainY, batch_size=BS),\n",
        "\tsteps_per_epoch=len(trainX) // BS,\n",
        "\tvalidation_data=(testX, testY),\n",
        "\tvalidation_steps=len(testX) // BS,\n",
        "\tepochs=EPOCHS,callbacks=[early_stopping,model_chkpt])"
      ]
    },
    {
      "cell_type": "code",
      "execution_count": null,
      "metadata": {
        "colab": {
          "base_uri": "https://localhost:8080/"
        },
        "id": "K8miI8SBbzk4",
        "outputId": "cd1e006e-8128-4a92-e863-3f0843ef0a91"
      },
      "outputs": [
        {
          "output_type": "stream",
          "name": "stdout",
          "text": [
            "[INFO] evaluating network...\n",
            "              precision    recall  f1-score   support\n",
            "\n",
            "    infected       0.95      1.00      0.97        18\n",
            "      normal       0.00      0.00      0.00         1\n",
            "\n",
            "    accuracy                           0.95        19\n",
            "   macro avg       0.47      0.50      0.49        19\n",
            "weighted avg       0.90      0.95      0.92        19\n",
            "\n"
          ]
        },
        {
          "output_type": "stream",
          "name": "stderr",
          "text": [
            "/usr/local/lib/python3.7/dist-packages/sklearn/metrics/_classification.py:1318: UndefinedMetricWarning: Precision and F-score are ill-defined and being set to 0.0 in labels with no predicted samples. Use `zero_division` parameter to control this behavior.\n",
            "  _warn_prf(average, modifier, msg_start, len(result))\n",
            "/usr/local/lib/python3.7/dist-packages/sklearn/metrics/_classification.py:1318: UndefinedMetricWarning: Precision and F-score are ill-defined and being set to 0.0 in labels with no predicted samples. Use `zero_division` parameter to control this behavior.\n",
            "  _warn_prf(average, modifier, msg_start, len(result))\n",
            "/usr/local/lib/python3.7/dist-packages/sklearn/metrics/_classification.py:1318: UndefinedMetricWarning: Precision and F-score are ill-defined and being set to 0.0 in labels with no predicted samples. Use `zero_division` parameter to control this behavior.\n",
            "  _warn_prf(average, modifier, msg_start, len(result))\n"
          ]
        }
      ],
      "source": [
        "# make predictions on the testing set\n",
        "print(\"[INFO] evaluating network...\")\n",
        "predIdx_s = model.predict(testX, batch_size=BS)\n",
        "# for each image in the testing set we need to find the index of the\n",
        "# label with corresponding largest predicted probability\n",
        "predIdx_s = np.argmax(predIdx_s, axis=1)\n",
        "# show a nicely formatted classification report\n",
        "print(classification_report(testY.argmax(axis=1), predIdx_s,\n",
        "\ttarget_names=lb.classes_))\n"
      ]
    },
    {
      "cell_type": "code",
      "execution_count": null,
      "metadata": {
        "colab": {
          "base_uri": "https://localhost:8080/"
        },
        "id": "oiP0Spjvbzn6",
        "outputId": "1d5cb788-4342-47a1-e928-134990f9e551"
      },
      "outputs": [
        {
          "output_type": "stream",
          "name": "stdout",
          "text": [
            "[[18  0]\n",
            " [ 1  0]]\n",
            "acc: 0.9474\n",
            "sensitivity: 1.0000\n",
            "specificity: 0.0000\n"
          ]
        }
      ],
      "source": [
        "# compute the confusion matrix and and use it to derive the raw\n",
        "# accuracy, sensitivity, and specificity\n",
        "cm = confusion_matrix(testY.argmax(axis=1), predIdx_s)\n",
        "total = sum(sum(cm))\n",
        "acc = (cm[0, 0] + cm[1, 1]) / total\n",
        "sensitivity = cm[0, 0] / (cm[0, 0] + cm[0, 1])\n",
        "specificity = cm[1, 1] / (cm[1, 0] + cm[1, 1])\n",
        "# show the confusion matrix, accuracy, sensitivity, and specificity\n",
        "print(cm)\n",
        "print(\"acc: {:.4f}\".format(acc))\n",
        "print(\"sensitivity: {:.4f}\".format(sensitivity))\n",
        "print(\"specificity: {:.4f}\".format(specificity))\n"
      ]
    },
    {
      "cell_type": "code",
      "execution_count": null,
      "metadata": {
        "colab": {
          "base_uri": "https://localhost:8080/",
          "height": 316
        },
        "id": "i_NS81Gybzqu",
        "outputId": "c417de08-de6b-4a2d-823f-666374f8bb6d"
      },
      "outputs": [
        {
          "output_type": "execute_result",
          "data": {
            "text/plain": [
              "<matplotlib.legend.Legend at 0x7fab95c946d0>"
            ]
          },
          "metadata": {},
          "execution_count": 42
        },
        {
          "output_type": "display_data",
          "data": {
            "text/plain": [
              "<Figure size 432x288 with 1 Axes>"
            ],
            "image/png": "[encoded data removed]"
          },
          "metadata": {}
        }
      ],
      "source": [
        "# plot the training loss and accuracy\n",
        "N = EPOCHS\n",
        "plt.style.use(\"ggplot\")\n",
        "plt.figure()\n",
        "plt.plot(np.arange(0, N), H.history[\"loss\"], label=\"train_loss\")\n",
        "plt.plot(np.arange(0, N), H.history[\"val_loss\"], label=\"val_loss\")\n",
        "plt.plot(np.arange(0, N), H.history[\"accuracy\"], label=\"train_acc\")\n",
        "plt.plot(np.arange(0, N), H.history[\"val_accuracy\"], label=\"val_acc\")\n",
        "plt.title(\"Training Loss and Accuracy on COVID-19 Dataset\")\n",
        "plt.xlabel(\"Epoch #\")\n",
        "plt.ylabel(\"Loss/Accuracy\")\n",
        "plt.legend(loc=\"lower left\")\n",
        "#plt.savefig(args[\"plot\"])"
      ]
    },
    {
      "cell_type": "code",
      "execution_count": null,
      "metadata": {
        "colab": {
          "base_uri": "https://localhost:8080/"
        },
        "id": "QRY4MT4qbeGP",
        "outputId": "5cc91ef0-c81f-42f6-b8cf-ab3b20d5c861"
      },
      "outputs": [
        {
          "output_type": "execute_result",
          "data": {
            "text/plain": [
              "array([0, 0, 0, 0, 0, 0, 0, 0, 0, 0, 0, 0, 0, 0, 0, 0, 0, 0, 0])"
            ]
          },
          "metadata": {},
          "execution_count": 39
        }
      ],
      "source": [
        "predIdx_s"
      ]
    },
    {
      "cell_type": "markdown",
      "metadata": {
        "id": "eiKEd8pKkb9V"
      },
      "source": [
        "WITHOUT PRETRAINED MODEL"
      ]
    },
    {
      "cell_type": "code",
      "execution_count": null,
      "metadata": {
        "id": "wz82xcxmbeQZ"
      },
      "outputs": [],
      "source": [
        "model = Sequential()\n",
        "model.add(Conv2D(80, (3, 3),activation='relu', input_shape=(224, 224, 3)))\n",
        "model.add(MaxPool2D(pool_size=(2, 2)))\n",
        "model.add(Dropout(0.2))\n",
        "\n",
        "model.add(Conv2D(32, (3, 3),activation='relu'))\n",
        "model.add(MaxPool2D(pool_size=(2, 2)))\n",
        "model.add(Dropout(0.5))\n",
        "model.add(Conv2D(32, (3, 3),activation='relu'))\n",
        "\n",
        "\n",
        "model.add(Conv2D(64, (3, 3),activation='relu'))\n",
        "model.add(MaxPool2D(pool_size=(2, 2)))\n",
        "\n",
        "model.add(Flatten())\n",
        "model.add(Dense(64,activation='relu'))\n",
        "model.add(Dropout(0.5))\n",
        "\n",
        "model.add(Dense(2,activation='softmax'))"
      ]
    },
    {
      "cell_type": "code",
      "execution_count": 25,
      "metadata": {
        "id": "HDv8ok9ZbeTx"
      },
      "outputs": [],
      "source": [
        "model_chkpt = ModelCheckpoint('best_mod.h5', save_best_only=True, monitor='accuracy')\n",
        "early_stopping = EarlyStopping(monitor='loss', restore_best_weights=False, patience=10)"
      ]
    },
    {
      "cell_type": "code",
      "execution_count": null,
      "metadata": {
        "colab": {
          "base_uri": "https://localhost:8080/"
        },
        "id": "PoE14wt1beW8",
        "outputId": "16665d6b-a95f-47b3-b962-5dc678f9c39a"
      },
      "outputs": [
        {
          "output_type": "stream",
          "name": "stdout",
          "text": [
            "[INFO] compiling model...\n",
            "[INFO] training head...\n"
          ]
        },
        {
          "output_type": "stream",
          "name": "stderr",
          "text": [
            "/usr/local/lib/python3.7/dist-packages/keras/optimizer_v2/adam.py:105: UserWarning: The `lr` argument is deprecated, use `learning_rate` instead.\n",
            "  super(Adam, self).__init__(name, **kwargs)\n"
          ]
        },
        {
          "output_type": "stream",
          "name": "stdout",
          "text": [
            "Epoch 1/25\n"
          ]
        },
        {
          "output_type": "stream",
          "name": "stderr",
          "text": [
            "/usr/local/lib/python3.7/dist-packages/ipykernel_launcher.py:18: UserWarning: `Model.fit_generator` is deprecated and will be removed in a future version. Please use `Model.fit`, which supports generators.\n"
          ]
        },
        {
          "output_type": "stream",
          "name": "stdout",
          "text": [
            "9/9 [==============================] - 12s 1s/step - loss: 1.3110 - accuracy: 0.9265 - val_loss: 0.3116 - val_accuracy: 0.9474\n",
            "Epoch 2/25\n",
            "9/9 [==============================] - 11s 1s/step - loss: 0.1705 - accuracy: 0.9706 - val_loss: 0.6196 - val_accuracy: 0.9474\n",
            "Epoch 3/25\n",
            "9/9 [==============================] - 11s 1s/step - loss: 0.1985 - accuracy: 0.9706 - val_loss: 0.3000 - val_accuracy: 0.9474\n",
            "Epoch 4/25\n",
            "9/9 [==============================] - 11s 1s/step - loss: 0.1336 - accuracy: 0.9722 - val_loss: 0.4585 - val_accuracy: 0.9474\n",
            "Epoch 5/25\n",
            "9/9 [==============================] - 11s 1s/step - loss: 0.1421 - accuracy: 0.9706 - val_loss: 0.4446 - val_accuracy: 0.9474\n",
            "Epoch 6/25\n",
            "9/9 [==============================] - 11s 1s/step - loss: 0.0937 - accuracy: 0.9853 - val_loss: 0.2492 - val_accuracy: 0.9474\n",
            "Epoch 7/25\n",
            "9/9 [==============================] - 11s 1s/step - loss: 0.0419 - accuracy: 0.9853 - val_loss: 0.2798 - val_accuracy: 0.9474\n",
            "Epoch 8/25\n",
            "9/9 [==============================] - 11s 1s/step - loss: 0.2087 - accuracy: 0.9706 - val_loss: 0.4923 - val_accuracy: 0.9474\n",
            "Epoch 9/25\n",
            "9/9 [==============================] - 11s 1s/step - loss: 0.0873 - accuracy: 0.9706 - val_loss: 0.3195 - val_accuracy: 0.9474\n",
            "Epoch 10/25\n",
            "9/9 [==============================] - 10s 1s/step - loss: 0.1729 - accuracy: 0.9706 - val_loss: 0.4231 - val_accuracy: 0.9474\n",
            "Epoch 11/25\n",
            "9/9 [==============================] - 11s 1s/step - loss: 0.1204 - accuracy: 0.9722 - val_loss: 0.3479 - val_accuracy: 0.9474\n",
            "Epoch 12/25\n",
            "9/9 [==============================] - 11s 1s/step - loss: 0.0724 - accuracy: 0.9853 - val_loss: 0.2428 - val_accuracy: 0.9474\n",
            "Epoch 13/25\n",
            "9/9 [==============================] - 10s 1s/step - loss: 0.1617 - accuracy: 0.9706 - val_loss: 0.3694 - val_accuracy: 0.9474\n",
            "Epoch 14/25\n",
            "9/9 [==============================] - 11s 1s/step - loss: 0.1295 - accuracy: 0.9706 - val_loss: 0.3384 - val_accuracy: 0.9474\n",
            "Epoch 15/25\n",
            "9/9 [==============================] - 11s 1s/step - loss: 0.0794 - accuracy: 0.9706 - val_loss: 0.2611 - val_accuracy: 0.9474\n",
            "Epoch 16/25\n",
            "9/9 [==============================] - 11s 1s/step - loss: 0.1736 - accuracy: 0.9706 - val_loss: 0.3466 - val_accuracy: 0.9474\n",
            "Epoch 17/25\n",
            "9/9 [==============================] - 12s 1s/step - loss: 0.1059 - accuracy: 0.9706 - val_loss: 0.3392 - val_accuracy: 0.9474\n"
          ]
        }
      ],
      "source": [
        "# initialize the initial learning rate, number of epochs to train for,\n",
        "# and batch size\n",
        "INIT_LR = 1e-3\n",
        "EPOCHS = 25\n",
        "BS = 8\n",
        "# compile our model\n",
        "print(\"[INFO] compiling model...\")\n",
        "opt = Adam(lr=INIT_LR, decay=INIT_LR / EPOCHS)\n",
        "model.compile(loss=\"binary_crossentropy\", optimizer=opt,\n",
        "\tmetrics=[\"accuracy\"])\n",
        "# train the head of the network\n",
        "print(\"[INFO] training head...\")\n",
        "H = model.fit_generator(\n",
        "\ttrAug.flow(trainX, trainY, batch_size=BS),\n",
        "\tsteps_per_epoch=len(trainX) // BS,\n",
        "\tvalidation_data=(testX, testY),\n",
        "\tvalidation_steps=len(testX) // BS,\n",
        "\tepochs=EPOCHS,callbacks=[early_stopping,model_chkpt])"
      ]
    },
    {
      "cell_type": "code",
      "execution_count": null,
      "metadata": {
        "colab": {
          "base_uri": "https://localhost:8080/"
        },
        "id": "F2XBLjVWbeaL",
        "outputId": "c9a9c1aa-04f7-434f-f829-527bc1a80f58"
      },
      "outputs": [
        {
          "output_type": "stream",
          "name": "stdout",
          "text": [
            "[INFO] evaluating network...\n",
            "              precision    recall  f1-score   support\n",
            "\n",
            "    infected       0.95      1.00      0.97        18\n",
            "      normal       0.00      0.00      0.00         1\n",
            "\n",
            "    accuracy                           0.95        19\n",
            "   macro avg       0.47      0.50      0.49        19\n",
            "weighted avg       0.90      0.95      0.92        19\n",
            "\n"
          ]
        },
        {
          "output_type": "stream",
          "name": "stderr",
          "text": [
            "/usr/local/lib/python3.7/dist-packages/sklearn/metrics/_classification.py:1318: UndefinedMetricWarning: Precision and F-score are ill-defined and being set to 0.0 in labels with no predicted samples. Use `zero_division` parameter to control this behavior.\n",
            "  _warn_prf(average, modifier, msg_start, len(result))\n",
            "/usr/local/lib/python3.7/dist-packages/sklearn/metrics/_classification.py:1318: UndefinedMetricWarning: Precision and F-score are ill-defined and being set to 0.0 in labels with no predicted samples. Use `zero_division` parameter to control this behavior.\n",
            "  _warn_prf(average, modifier, msg_start, len(result))\n",
            "/usr/local/lib/python3.7/dist-packages/sklearn/metrics/_classification.py:1318: UndefinedMetricWarning: Precision and F-score are ill-defined and being set to 0.0 in labels with no predicted samples. Use `zero_division` parameter to control this behavior.\n",
            "  _warn_prf(average, modifier, msg_start, len(result))\n"
          ]
        }
      ],
      "source": [
        "# make predictions on the testing set\n",
        "print(\"[INFO] evaluating network...\")\n",
        "predIdxs = model.predict(testX, batch_size=BS)\n",
        "# for each image in the testing set we need to find the index of the\n",
        "# label with corresponding largest predicted probability\n",
        "predIdxs = np.argmax(predIdxs, axis=1)\n",
        "# show a nicely formatted classification report\n",
        "print(classification_report(testY.argmax(axis=1), predIdxs,\n",
        "\ttarget_names=lb.classes_))"
      ]
    },
    {
      "cell_type": "code",
      "execution_count": null,
      "metadata": {
        "colab": {
          "base_uri": "https://localhost:8080/"
        },
        "id": "QumRouVkbec_",
        "outputId": "85d9bbaa-25f7-4cb8-f112-7eb49828808a"
      },
      "outputs": [
        {
          "output_type": "stream",
          "name": "stdout",
          "text": [
            "[[18  0]\n",
            " [ 1  0]]\n",
            "acc: 0.9474\n",
            "sensitivity: 1.0000\n",
            "specificity: 0.0000\n"
          ]
        }
      ],
      "source": [
        "# compute the confusion matrix and and use it to derive the raw\n",
        "# accuracy, sensitivity, and specificity\n",
        "cm = confusion_matrix(testY.argmax(axis=1), predIdxs)\n",
        "total = sum(sum(cm))\n",
        "acc = (cm[0, 0] + cm[1, 1]) / total\n",
        "sensitivity = cm[0, 0] / (cm[0, 0] + cm[0, 1])\n",
        "specificity = cm[1, 1] / (cm[1, 0] + cm[1, 1])\n",
        "# show the confusion matrix, accuracy, sensitivity, and specificity\n",
        "print(cm)\n",
        "print(\"acc: {:.4f}\".format(acc))\n",
        "print(\"sensitivity: {:.4f}\".format(sensitivity))\n",
        "print(\"specificity: {:.4f}\".format(specificity))"
      ]
    },
    {
      "cell_type": "code",
      "execution_count": null,
      "metadata": {
        "id": "0GUBpq41begL"
      },
      "outputs": [],
      "source": [
        "# plot the training loss and accuracy\n",
        "N = EPOCHS\n",
        "plt.style.use(\"ggplot\")\n",
        "plt.figure()\n",
        "plt.plot(np.arange(0, N), H.history[\"loss\"], label=\"train_loss\")\n",
        "plt.plot(np.arange(0, N), H.history[\"val_loss\"], label=\"val_loss\")\n",
        "plt.plot(np.arange(0, N), H.history[\"accuracy\"], label=\"train_acc\")\n",
        "plt.plot(np.arange(0, N), H.history[\"val_accuracy\"], label=\"val_acc\")\n",
        "plt.title(\"Training Loss and Accuracy on COVID-19 Dataset\")\n",
        "plt.xlabel(\"Epoch #\")\n",
        "plt.ylabel(\"Loss/Accuracy\")\n",
        "plt.legend(loc=\"lower left\")\n",
        "#plt.savefig(args[\"plot\"])"
      ]
    },
    {
      "cell_type": "markdown",
      "metadata": {
        "id": "f5nbEjAytJRK"
      },
      "source": [
        "RESNET50"
      ]
    },
    {
      "cell_type": "code",
      "execution_count": 16,
      "metadata": {
        "id": "FhJh7PYpbemG"
      },
      "outputs": [],
      "source": [
        "from tensorflow.keras.applications.resnet50 import ResNet50\n",
        "from tensorflow.keras.preprocessing import image\n",
        "from tensorflow.keras.applications.resnet50 import preprocess_input, decode_predictions\n",
        "import numpy as np"
      ]
    },
    {
      "cell_type": "code",
      "execution_count": 17,
      "metadata": {
        "colab": {
          "base_uri": "https://localhost:8080/"
        },
        "id": "SoQONwdil2nD",
        "outputId": "130a30a7-a38b-4ebd-a79a-c20871563968"
      },
      "outputs": [
        {
          "output_type": "stream",
          "name": "stdout",
          "text": [
            "Downloading data from https://storage.googleapis.com/tensorflow/keras-applications/resnet/resnet50_weights_tf_dim_ordering_tf_kernels_notop.h5\n",
            "94773248/94765736 [==============================] - 0s 0us/step\n",
            "94781440/94765736 [==============================] - 0s 0us/step\n"
          ]
        }
      ],
      "source": [
        "res = ResNet50(weights=\"imagenet\", include_top=False, input_tensor=Input(shape=(224, 224, 3)))\n",
        "outputs = res.output\n",
        "outputs = Flatten(name=\"flatten\")(outputs)\n",
        "outputs = Dropout(0.5)(outputs)\n",
        "outputs = Dense(2, activation=\"softmax\")(outputs)\n",
        "model = Model(inputs=res.input, outputs=outputs)\n",
        "for layer in res.layers:\n",
        "  layer.trainable = False"
      ]
    },
    {
      "cell_type": "code",
      "execution_count": 26,
      "metadata": {
        "id": "19xSBokPl2qc"
      },
      "outputs": [],
      "source": [
        "model_chkpt = ModelCheckpoint('best_mod.h5', save_best_only=True, monitor='accuracy')\n",
        "early_stopping = EarlyStopping(monitor='loss', restore_best_weights=False, patience=10)"
      ]
    },
    {
      "cell_type": "code",
      "execution_count": 27,
      "metadata": {
        "colab": {
          "base_uri": "https://localhost:8080/"
        },
        "id": "05XJCyH-l2t2",
        "outputId": "57d845f0-68c9-4179-c8f0-0b48ead9071c"
      },
      "outputs": [
        {
          "output_type": "stream",
          "name": "stdout",
          "text": [
            "[INFO] compiling model...\n",
            "[INFO] training head...\n"
          ]
        },
        {
          "output_type": "stream",
          "name": "stderr",
          "text": [
            "/usr/local/lib/python3.7/dist-packages/keras/optimizer_v2/adam.py:105: UserWarning: The `lr` argument is deprecated, use `learning_rate` instead.\n",
            "  super(Adam, self).__init__(name, **kwargs)\n",
            "/usr/local/lib/python3.7/dist-packages/ipykernel_launcher.py:18: UserWarning: `Model.fit_generator` is deprecated and will be removed in a future version. Please use `Model.fit`, which supports generators.\n"
          ]
        },
        {
          "output_type": "stream",
          "name": "stdout",
          "text": [
            "Epoch 1/25\n",
            "9/9 [==============================] - 16s 562ms/step - loss: 0.5906 - accuracy: 0.7500 - val_loss: 0.3514 - val_accuracy: 0.9474\n",
            "Epoch 2/25\n",
            "9/9 [==============================] - 1s 127ms/step - loss: 0.3005 - accuracy: 0.9706 - val_loss: 0.2384 - val_accuracy: 0.9474\n",
            "Epoch 3/25\n",
            "9/9 [==============================] - 1s 113ms/step - loss: 0.2165 - accuracy: 0.9706 - val_loss: 0.2051 - val_accuracy: 0.9474\n",
            "Epoch 4/25\n",
            "9/9 [==============================] - 1s 130ms/step - loss: 0.1334 - accuracy: 0.9853 - val_loss: 0.2009 - val_accuracy: 0.9474\n",
            "Epoch 5/25\n",
            "9/9 [==============================] - 1s 118ms/step - loss: 0.1510 - accuracy: 0.9706 - val_loss: 0.2061 - val_accuracy: 0.9474\n",
            "Epoch 6/25\n",
            "9/9 [==============================] - 1s 108ms/step - loss: 0.1893 - accuracy: 0.9706 - val_loss: 0.2083 - val_accuracy: 0.9474\n",
            "Epoch 7/25\n",
            "9/9 [==============================] - 1s 112ms/step - loss: 0.1932 - accuracy: 0.9722 - val_loss: 0.2125 - val_accuracy: 0.9474\n",
            "Epoch 8/25\n",
            "9/9 [==============================] - 1s 105ms/step - loss: 0.1263 - accuracy: 0.9706 - val_loss: 0.2129 - val_accuracy: 0.9474\n",
            "Epoch 9/25\n",
            "9/9 [==============================] - 1s 132ms/step - loss: 0.1108 - accuracy: 0.9861 - val_loss: 0.2133 - val_accuracy: 0.9474\n",
            "Epoch 10/25\n",
            "9/9 [==============================] - 1s 106ms/step - loss: 0.1295 - accuracy: 0.9706 - val_loss: 0.2137 - val_accuracy: 0.9474\n",
            "Epoch 11/25\n",
            "9/9 [==============================] - 1s 106ms/step - loss: 0.1464 - accuracy: 0.9706 - val_loss: 0.2120 - val_accuracy: 0.9474\n",
            "Epoch 12/25\n",
            "9/9 [==============================] - 1s 106ms/step - loss: 0.0888 - accuracy: 0.9853 - val_loss: 0.2138 - val_accuracy: 0.9474\n",
            "Epoch 13/25\n",
            "9/9 [==============================] - 1s 115ms/step - loss: 0.0837 - accuracy: 0.9853 - val_loss: 0.2173 - val_accuracy: 0.9474\n",
            "Epoch 14/25\n",
            "9/9 [==============================] - 1s 142ms/step - loss: 0.1117 - accuracy: 0.9853 - val_loss: 0.2237 - val_accuracy: 0.9474\n",
            "Epoch 15/25\n",
            "9/9 [==============================] - 1s 106ms/step - loss: 0.1175 - accuracy: 0.9706 - val_loss: 0.2205 - val_accuracy: 0.9474\n",
            "Epoch 16/25\n",
            "9/9 [==============================] - 1s 107ms/step - loss: 0.1963 - accuracy: 0.9706 - val_loss: 0.2149 - val_accuracy: 0.9474\n",
            "Epoch 17/25\n",
            "9/9 [==============================] - 1s 105ms/step - loss: 0.1616 - accuracy: 0.9706 - val_loss: 0.2091 - val_accuracy: 0.9474\n",
            "Epoch 18/25\n",
            "9/9 [==============================] - 1s 108ms/step - loss: 0.1702 - accuracy: 0.9706 - val_loss: 0.2074 - val_accuracy: 0.9474\n",
            "Epoch 19/25\n",
            "9/9 [==============================] - 1s 108ms/step - loss: 0.1554 - accuracy: 0.9706 - val_loss: 0.1998 - val_accuracy: 0.9474\n",
            "Epoch 20/25\n",
            "9/9 [==============================] - 2s 164ms/step - loss: 0.1374 - accuracy: 0.9722 - val_loss: 0.1992 - val_accuracy: 0.9474\n",
            "Epoch 21/25\n",
            "9/9 [==============================] - 1s 106ms/step - loss: 0.0773 - accuracy: 0.9853 - val_loss: 0.1987 - val_accuracy: 0.9474\n",
            "Epoch 22/25\n",
            "9/9 [==============================] - 1s 107ms/step - loss: 0.0879 - accuracy: 0.9853 - val_loss: 0.2038 - val_accuracy: 0.9474\n",
            "Epoch 23/25\n",
            "9/9 [==============================] - 1s 108ms/step - loss: 0.1641 - accuracy: 0.9706 - val_loss: 0.2079 - val_accuracy: 0.9474\n",
            "Epoch 24/25\n",
            "9/9 [==============================] - 1s 109ms/step - loss: 0.0948 - accuracy: 0.9853 - val_loss: 0.2082 - val_accuracy: 0.9474\n",
            "Epoch 25/25\n",
            "9/9 [==============================] - 1s 109ms/step - loss: 0.1142 - accuracy: 0.9853 - val_loss: 0.2144 - val_accuracy: 0.9474\n"
          ]
        }
      ],
      "source": [
        "# initialize the initial learning rate, number of epochs to train for,\n",
        "# and batch size\n",
        "INIT_LR = 1e-3\n",
        "EPOCHS = 25\n",
        "BS = 8\n",
        "# compile our model\n",
        "print(\"[INFO] compiling model...\")\n",
        "opt = Adam(lr=INIT_LR, decay=INIT_LR / EPOCHS)\n",
        "model.compile(loss=\"binary_crossentropy\", optimizer=opt,\n",
        "\tmetrics=[\"accuracy\"])\n",
        "# train the head of the network\n",
        "print(\"[INFO] training head...\")\n",
        "H = model.fit_generator(\n",
        "\ttrAug.flow(trainX, trainY, batch_size=BS),\n",
        "\tsteps_per_epoch=len(trainX) // BS,\n",
        "\tvalidation_data=(testX, testY),\n",
        "\tvalidation_steps=len(testX) // BS,\n",
        "\tepochs=EPOCHS,callbacks=[early_stopping,model_chkpt])"
      ]
    },
    {
      "cell_type": "code",
      "execution_count": 28,
      "metadata": {
        "colab": {
          "base_uri": "https://localhost:8080/"
        },
        "id": "XgYTZav8l2xG",
        "outputId": "5696edf7-5fc5-4bc3-f8cc-5e4920ea82ad"
      },
      "outputs": [
        {
          "output_type": "stream",
          "name": "stdout",
          "text": [
            "[INFO] evaluating network...\n",
            "              precision    recall  f1-score   support\n",
            "\n",
            "    infected       0.95      1.00      0.97        18\n",
            "      normal       0.00      0.00      0.00         1\n",
            "\n",
            "    accuracy                           0.95        19\n",
            "   macro avg       0.47      0.50      0.49        19\n",
            "weighted avg       0.90      0.95      0.92        19\n",
            "\n"
          ]
        },
        {
          "output_type": "stream",
          "name": "stderr",
          "text": [
            "/usr/local/lib/python3.7/dist-packages/sklearn/metrics/_classification.py:1318: UndefinedMetricWarning: Precision and F-score are ill-defined and being set to 0.0 in labels with no predicted samples. Use `zero_division` parameter to control this behavior.\n",
            "  _warn_prf(average, modifier, msg_start, len(result))\n",
            "/usr/local/lib/python3.7/dist-packages/sklearn/metrics/_classification.py:1318: UndefinedMetricWarning: Precision and F-score are ill-defined and being set to 0.0 in labels with no predicted samples. Use `zero_division` parameter to control this behavior.\n",
            "  _warn_prf(average, modifier, msg_start, len(result))\n",
            "/usr/local/lib/python3.7/dist-packages/sklearn/metrics/_classification.py:1318: UndefinedMetricWarning: Precision and F-score are ill-defined and being set to 0.0 in labels with no predicted samples. Use `zero_division` parameter to control this behavior.\n",
            "  _warn_prf(average, modifier, msg_start, len(result))\n"
          ]
        }
      ],
      "source": [
        "# make predictions on the testing set\n",
        "print(\"[INFO] evaluating network...\")\n",
        "predIdxs = model.predict(testX, batch_size=BS)\n",
        "# for each image in the testing set we need to find the index of the\n",
        "# label with corresponding largest predicted probability\n",
        "predIdxs = np.argmax(predIdxs, axis=1)\n",
        "# show a nicely formatted classification report\n",
        "print(classification_report(testY.argmax(axis=1), predIdxs,\n",
        "\ttarget_names=lb.classes_))"
      ]
    },
    {
      "cell_type": "code",
      "execution_count": 29,
      "metadata": {
        "colab": {
          "base_uri": "https://localhost:8080/"
        },
        "id": "NpBpl_Bel2zv",
        "outputId": "aa4a9644-1f84-45b1-a1ba-bd070487b402"
      },
      "outputs": [
        {
          "output_type": "stream",
          "name": "stdout",
          "text": [
            "[[18  0]\n",
            " [ 1  0]]\n",
            "acc: 0.9474\n",
            "sensitivity: 1.0000\n",
            "specificity: 0.0000\n"
          ]
        }
      ],
      "source": [
        "# compute the confusion matrix and and use it to derive the raw\n",
        "# accuracy, sensitivity, and specificity\n",
        "cm = confusion_matrix(testY.argmax(axis=1), predIdxs)\n",
        "total = sum(sum(cm))\n",
        "acc = (cm[0, 0] + cm[1, 1]) / total\n",
        "sensitivity = cm[0, 0] / (cm[0, 0] + cm[0, 1])\n",
        "specificity = cm[1, 1] / (cm[1, 0] + cm[1, 1])\n",
        "# show the confusion matrix, accuracy, sensitivity, and specificity\n",
        "print(cm)\n",
        "print(\"acc: {:.4f}\".format(acc))\n",
        "print(\"sensitivity: {:.4f}\".format(sensitivity))\n",
        "print(\"specificity: {:.4f}\".format(specificity))"
      ]
    },
    {
      "cell_type": "code",
      "execution_count": 30,
      "metadata": {
        "colab": {
          "base_uri": "https://localhost:8080/",
          "height": 316
        },
        "id": "lLn60grXl225",
        "outputId": "05234c76-1b89-477e-854e-c19ac4747acc"
      },
      "outputs": [
        {
          "output_type": "execute_result",
          "data": {
            "text/plain": [
              "<matplotlib.legend.Legend at 0x7f276e2f2910>"
            ]
          },
          "metadata": {},
          "execution_count": 30
        },
        {
          "output_type": "display_data",
          "data": {
            "text/plain": [
              "<Figure size 432x288 with 1 Axes>"
            ],
            "image/png": "[encoded data removed]"
          },
          "metadata": {}
        }
      ],
      "source": [
        "# plot the training loss and accuracy\n",
        "N = EPOCHS\n",
        "plt.style.use(\"ggplot\")\n",
        "plt.figure()\n",
        "plt.plot(np.arange(0, EPOCHS), H.history[\"loss\"], label=\"train_loss\")\n",
        "plt.plot(np.arange(0, EPOCHS), H.history[\"val_loss\"], label=\"val_loss\")\n",
        "plt.plot(np.arange(0, EPOCHS), H.history[\"accuracy\"], label=\"train_acc\")\n",
        "plt.plot(np.arange(0, EPOCHS), H.history[\"val_accuracy\"], label=\"val_acc\")\n",
        "plt.title(\"Training Loss and Accuracy on COVID-19 Dataset\")\n",
        "plt.xlabel(\"Epoch #\")\n",
        "plt.ylabel(\"Loss/Accuracy\")\n",
        "plt.legend(loc=\"lower left\")\n",
        "#plt.savefig(args[\"plot\"])"
      ]
    },
    {
      "cell_type": "markdown",
      "metadata": {
        "id": "9f_5zX-znnZC"
      },
      "source": [
        "MOBILENET BY GOOGLE"
      ]
    },
    {
      "cell_type": "code",
      "execution_count": 31,
      "metadata": {
        "id": "IN9egaDMl3AA"
      },
      "outputs": [],
      "source": [
        "import tensorflow as tf"
      ]
    },
    {
      "cell_type": "code",
      "execution_count": 32,
      "metadata": {
        "colab": {
          "base_uri": "https://localhost:8080/"
        },
        "id": "7JHvFgpWl3Dd",
        "outputId": "d550568c-1e25-476a-d25c-0f8d0f4905ff"
      },
      "outputs": [
        {
          "output_type": "stream",
          "name": "stdout",
          "text": [
            "Downloading data from https://storage.googleapis.com/tensorflow/keras-applications/mobilenet_v2/mobilenet_v2_weights_tf_dim_ordering_tf_kernels_1.0_224_no_top.h5\n",
            "9412608/9406464 [==============================] - 0s 0us/step\n",
            "9420800/9406464 [==============================] - 0s 0us/step\n"
          ]
        }
      ],
      "source": [
        "IMG_SHAPE = (224,224,3)\n",
        "\n",
        "# Create the base model from the pre-trained model MobileNet V2\n",
        "baseModel = tf.keras.applications.MobileNetV2(input_shape=IMG_SHAPE,\n",
        "                                               include_top=False,\n",
        "                                               weights='imagenet')\n",
        "headModel = baseModel.output\n",
        "headModel = AveragePooling2D(pool_size=(4, 4))(headModel)\n",
        "headModel = Dropout(0.5)(headModel)\n",
        "headModel = Flatten(name=\"flatten\")(headModel)\n",
        "headModel = Dense(64, activation=\"relu\")(headModel)\n",
        "headModel = Dropout(0.5)(headModel)\n",
        "headModel = Dense(2, activation=\"softmax\")(headModel)\n",
        "\n",
        "\n",
        "model= Model(inputs=baseModel.input, outputs=headModel)\n",
        "\n",
        "for layer in baseModel.layers:\n",
        "    layer.trainable = False"
      ]
    },
    {
      "cell_type": "code",
      "execution_count": 33,
      "metadata": {
        "id": "EAUoaqYIl3Tq"
      },
      "outputs": [],
      "source": [
        "model_chkpt = ModelCheckpoint('best_mod.h5', save_best_only=True, monitor='accuracy')\n",
        "early_stopping = EarlyStopping(monitor='loss', restore_best_weights=False, patience=10)"
      ]
    },
    {
      "cell_type": "code",
      "execution_count": 35,
      "metadata": {
        "colab": {
          "base_uri": "https://localhost:8080/"
        },
        "id": "1wrgrZt2l3Wz",
        "outputId": "e9889026-df37-445b-bfd0-9bebb0ec7e35"
      },
      "outputs": [
        {
          "output_type": "stream",
          "name": "stdout",
          "text": [
            "[INFO] compiling model...\n",
            "[INFO] training head...\n",
            "Epoch 1/25\n"
          ]
        },
        {
          "output_type": "stream",
          "name": "stderr",
          "text": [
            "/usr/local/lib/python3.7/dist-packages/keras/optimizer_v2/adam.py:105: UserWarning: The `lr` argument is deprecated, use `learning_rate` instead.\n",
            "  super(Adam, self).__init__(name, **kwargs)\n",
            "/usr/local/lib/python3.7/dist-packages/ipykernel_launcher.py:18: UserWarning: `Model.fit_generator` is deprecated and will be removed in a future version. Please use `Model.fit`, which supports generators.\n"
          ]
        },
        {
          "output_type": "stream",
          "name": "stdout",
          "text": [
            "9/9 [==============================] - 5s 290ms/step - loss: 0.4954 - accuracy: 0.9118 - val_loss: 0.2932 - val_accuracy: 0.9474\n",
            "Epoch 2/25\n",
            "9/9 [==============================] - 2s 186ms/step - loss: 0.2763 - accuracy: 0.9722 - val_loss: 0.3261 - val_accuracy: 0.9474\n",
            "Epoch 3/25\n",
            "9/9 [==============================] - 1s 163ms/step - loss: 0.2442 - accuracy: 0.9706 - val_loss: 0.3139 - val_accuracy: 0.9474\n",
            "Epoch 4/25\n",
            "9/9 [==============================] - 1s 153ms/step - loss: 0.0812 - accuracy: 0.9853 - val_loss: 0.2986 - val_accuracy: 0.9474\n",
            "Epoch 5/25\n",
            "9/9 [==============================] - 1s 91ms/step - loss: 0.2445 - accuracy: 0.9853 - val_loss: 0.2655 - val_accuracy: 0.9474\n",
            "Epoch 6/25\n",
            "9/9 [==============================] - 1s 92ms/step - loss: 0.2064 - accuracy: 0.9706 - val_loss: 0.2319 - val_accuracy: 0.9474\n",
            "Epoch 7/25\n",
            "9/9 [==============================] - 1s 90ms/step - loss: 0.1102 - accuracy: 0.9706 - val_loss: 0.2138 - val_accuracy: 0.9474\n",
            "Epoch 8/25\n",
            "9/9 [==============================] - 1s 94ms/step - loss: 0.1147 - accuracy: 0.9706 - val_loss: 0.1808 - val_accuracy: 0.9474\n",
            "Epoch 9/25\n",
            "9/9 [==============================] - 1s 90ms/step - loss: 0.0833 - accuracy: 0.9706 - val_loss: 0.1569 - val_accuracy: 0.9474\n",
            "Epoch 10/25\n",
            "9/9 [==============================] - 1s 90ms/step - loss: 0.0678 - accuracy: 0.9706 - val_loss: 0.1363 - val_accuracy: 0.9474\n",
            "Epoch 11/25\n",
            "9/9 [==============================] - 1s 89ms/step - loss: 0.0840 - accuracy: 0.9706 - val_loss: 0.1255 - val_accuracy: 0.9474\n",
            "Epoch 12/25\n",
            "9/9 [==============================] - 1s 90ms/step - loss: 0.0757 - accuracy: 0.9706 - val_loss: 0.1234 - val_accuracy: 0.9474\n",
            "Epoch 13/25\n",
            "9/9 [==============================] - 1s 90ms/step - loss: 0.1263 - accuracy: 0.9706 - val_loss: 0.1025 - val_accuracy: 0.9474\n",
            "Epoch 14/25\n",
            "9/9 [==============================] - 1s 90ms/step - loss: 0.1044 - accuracy: 0.9706 - val_loss: 0.1032 - val_accuracy: 0.9474\n",
            "Epoch 15/25\n",
            "9/9 [==============================] - 1s 93ms/step - loss: 0.1005 - accuracy: 0.9706 - val_loss: 0.0906 - val_accuracy: 0.9474\n",
            "Epoch 16/25\n",
            "9/9 [==============================] - 1s 90ms/step - loss: 0.0663 - accuracy: 0.9853 - val_loss: 0.0882 - val_accuracy: 0.9474\n",
            "Epoch 17/25\n",
            "9/9 [==============================] - 1s 133ms/step - loss: 0.0252 - accuracy: 1.0000 - val_loss: 0.0916 - val_accuracy: 0.9474\n",
            "Epoch 18/25\n",
            "9/9 [==============================] - 1s 89ms/step - loss: 0.0656 - accuracy: 0.9853 - val_loss: 0.0873 - val_accuracy: 0.9474\n",
            "Epoch 19/25\n",
            "9/9 [==============================] - 1s 92ms/step - loss: 0.0732 - accuracy: 0.9853 - val_loss: 0.0786 - val_accuracy: 0.9474\n",
            "Epoch 20/25\n",
            "9/9 [==============================] - 1s 90ms/step - loss: 0.0261 - accuracy: 1.0000 - val_loss: 0.0662 - val_accuracy: 0.9474\n",
            "Epoch 21/25\n",
            "9/9 [==============================] - 1s 90ms/step - loss: 0.0446 - accuracy: 0.9853 - val_loss: 0.0677 - val_accuracy: 0.9474\n",
            "Epoch 22/25\n",
            "9/9 [==============================] - 1s 91ms/step - loss: 0.0706 - accuracy: 0.9706 - val_loss: 0.0717 - val_accuracy: 0.9474\n",
            "Epoch 23/25\n",
            "9/9 [==============================] - 1s 89ms/step - loss: 0.0238 - accuracy: 0.9853 - val_loss: 0.0788 - val_accuracy: 0.9474\n",
            "Epoch 24/25\n",
            "9/9 [==============================] - 1s 90ms/step - loss: 0.0737 - accuracy: 0.9853 - val_loss: 0.0753 - val_accuracy: 0.9474\n",
            "Epoch 25/25\n",
            "9/9 [==============================] - 1s 90ms/step - loss: 0.0150 - accuracy: 1.0000 - val_loss: 0.0647 - val_accuracy: 0.9474\n"
          ]
        }
      ],
      "source": [
        "# initialize the initial learning rate, number of epochs to train for,\n",
        "# and batch size\n",
        "INIT_LR = 1e-3\n",
        "EPOCHS = 25\n",
        "BS = 8\n",
        "# compile our model\n",
        "print(\"[INFO] compiling model...\")\n",
        "opt = Adam(lr=INIT_LR, decay=INIT_LR / EPOCHS)\n",
        "model.compile(loss=\"binary_crossentropy\", optimizer=opt,\n",
        "\tmetrics=[\"accuracy\"])\n",
        "# train the head of the network\n",
        "print(\"[INFO] training head...\")\n",
        "H = model.fit_generator(\n",
        "\ttrAug.flow(trainX, trainY, batch_size=BS),\n",
        "\tsteps_per_epoch=len(trainX) // BS,\n",
        "\tvalidation_data=(testX, testY),\n",
        "\tvalidation_steps=len(testX) // BS,\n",
        "\tepochs=EPOCHS,callbacks=[early_stopping,model_chkpt])"
      ]
    },
    {
      "cell_type": "code",
      "execution_count": 36,
      "metadata": {
        "colab": {
          "base_uri": "https://localhost:8080/"
        },
        "id": "wafsTzkAl3aN",
        "outputId": "cbf1a58d-8e1b-445e-aeea-9b389e303421"
      },
      "outputs": [
        {
          "output_type": "stream",
          "name": "stdout",
          "text": [
            "[INFO] evaluating network...\n",
            "              precision    recall  f1-score   support\n",
            "\n",
            "    infected       0.95      1.00      0.97        18\n",
            "      normal       0.00      0.00      0.00         1\n",
            "\n",
            "    accuracy                           0.95        19\n",
            "   macro avg       0.47      0.50      0.49        19\n",
            "weighted avg       0.90      0.95      0.92        19\n",
            "\n"
          ]
        },
        {
          "output_type": "stream",
          "name": "stderr",
          "text": [
            "/usr/local/lib/python3.7/dist-packages/sklearn/metrics/_classification.py:1318: UndefinedMetricWarning: Precision and F-score are ill-defined and being set to 0.0 in labels with no predicted samples. Use `zero_division` parameter to control this behavior.\n",
            "  _warn_prf(average, modifier, msg_start, len(result))\n",
            "/usr/local/lib/python3.7/dist-packages/sklearn/metrics/_classification.py:1318: UndefinedMetricWarning: Precision and F-score are ill-defined and being set to 0.0 in labels with no predicted samples. Use `zero_division` parameter to control this behavior.\n",
            "  _warn_prf(average, modifier, msg_start, len(result))\n",
            "/usr/local/lib/python3.7/dist-packages/sklearn/metrics/_classification.py:1318: UndefinedMetricWarning: Precision and F-score are ill-defined and being set to 0.0 in labels with no predicted samples. Use `zero_division` parameter to control this behavior.\n",
            "  _warn_prf(average, modifier, msg_start, len(result))\n"
          ]
        }
      ],
      "source": [
        "# make predictions on the testing set\n",
        "print(\"[INFO] evaluating network...\")\n",
        "predIdxs = model.predict(testX, batch_size=BS)\n",
        "# for each image in the testing set we need to find the index of the\n",
        "# label with corresponding largest predicted probability\n",
        "predIdxs = np.argmax(predIdxs, axis=1)\n",
        "# show a nicely formatted classification report\n",
        "print(classification_report(testY.argmax(axis=1), predIdxs,\n",
        "\ttarget_names=lb.classes_))"
      ]
    },
    {
      "cell_type": "code",
      "execution_count": 37,
      "metadata": {
        "colab": {
          "base_uri": "https://localhost:8080/"
        },
        "id": "giaMXnVhbepp",
        "outputId": "6df8fce0-3537-4ef5-c2ac-cd1eb0627eb3"
      },
      "outputs": [
        {
          "output_type": "stream",
          "name": "stdout",
          "text": [
            "[[18  0]\n",
            " [ 1  0]]\n",
            "acc: 0.9474\n",
            "sensitivity: 1.0000\n",
            "specificity: 0.0000\n"
          ]
        }
      ],
      "source": [
        "# compute the confusion matrix and and use it to derive the raw\n",
        "# accuracy, sensitivity, and specificity\n",
        "cm = confusion_matrix(testY.argmax(axis=1), predIdxs)\n",
        "total = sum(sum(cm))\n",
        "acc = (cm[0, 0] + cm[1, 1]) / total\n",
        "sensitivity = cm[0, 0] / (cm[0, 0] + cm[0, 1])\n",
        "specificity = cm[1, 1] / (cm[1, 0] + cm[1, 1])\n",
        "# show the confusion matrix, accuracy, sensitivity, and specificity\n",
        "print(cm)\n",
        "print(\"acc: {:.4f}\".format(acc))\n",
        "print(\"sensitivity: {:.4f}\".format(sensitivity))\n",
        "print(\"specificity: {:.4f}\".format(specificity))"
      ]
    },
    {
      "cell_type": "code",
      "execution_count": 38,
      "metadata": {
        "colab": {
          "base_uri": "https://localhost:8080/",
          "height": 316
        },
        "id": "XzzagfzEbzt4",
        "outputId": "45b0feb9-146d-49e4-e0ee-b0d9b9db31a3"
      },
      "outputs": [
        {
          "output_type": "execute_result",
          "data": {
            "text/plain": [
              "<matplotlib.legend.Legend at 0x7f275ac89e90>"
            ]
          },
          "metadata": {},
          "execution_count": 38
        },
        {
          "output_type": "display_data",
          "data": {
            "text/plain": [
              "<Figure size 432x288 with 1 Axes>"
            ],
            "image/png": "[encoded data removed]"
          },
          "metadata": {}
        }
      ],
      "source": [
        "# plot the training loss and accuracy\n",
        "N = EPOCHS\n",
        "plt.style.use(\"ggplot\")\n",
        "plt.figure()\n",
        "plt.plot(np.arange(0, EPOCHS), H.history[\"loss\"], label=\"train_loss\")\n",
        "plt.plot(np.arange(0, EPOCHS), H.history[\"val_loss\"], label=\"val_loss\")\n",
        "plt.plot(np.arange(0, EPOCHS), H.history[\"accuracy\"], label=\"train_acc\")\n",
        "plt.plot(np.arange(0, EPOCHS), H.history[\"val_accuracy\"], label=\"val_acc\")\n",
        "plt.title(\"Training Loss and Accuracy on COVID-19 Dataset\")\n",
        "plt.xlabel(\"Epoch #\")\n",
        "plt.ylabel(\"Loss/Accuracy\")\n",
        "plt.legend(loc=\"lower left\")\n",
        "#plt.savefig(args[\"plot\"])"
      ]
    },
    {
      "cell_type": "markdown",
      "metadata": {
        "id": "Y_Copaztp-iF"
      },
      "source": [
        "INCEPTION RESNETV2"
      ]
    },
    {
      "cell_type": "code",
      "execution_count": 39,
      "metadata": {
        "id": "IrB_4cZObzxB"
      },
      "outputs": [],
      "source": [
        "from tensorflow.keras.applications.inception_resnet_v2 import InceptionResNetV2, preprocess_input"
      ]
    },
    {
      "cell_type": "code",
      "execution_count": 40,
      "metadata": {
        "colab": {
          "base_uri": "https://localhost:8080/"
        },
        "id": "f3RD4d3dbz0a",
        "outputId": "1411d52d-992e-43d9-d83b-71355c4c6e18"
      },
      "outputs": [
        {
          "output_type": "stream",
          "name": "stdout",
          "text": [
            "Downloading data from https://storage.googleapis.com/tensorflow/keras-applications/inception_resnet_v2/inception_resnet_v2_weights_tf_dim_ordering_tf_kernels_notop.h5\n",
            "219062272/219055592 [==============================] - 1s 0us/step\n",
            "219070464/219055592 [==============================] - 1s 0us/step\n"
          ]
        }
      ],
      "source": [
        "IMG_SHAPE = (224,224,3)\n",
        "\n",
        "# Create the base model from the pre-trained model Xception\n",
        "baseModel = InceptionResNetV2(include_top=False,weights='imagenet',input_tensor=Input(shape=(224, 224, 3)))\n",
        "headModel = baseModel.output\n",
        "headModel = AveragePooling2D(pool_size=(4, 4))(headModel)\n",
        "headModel = Dropout(0.5)(headModel)\n",
        "headModel = Flatten(name=\"flatten\")(headModel)\n",
        "headModel = Dense(64, activation=\"relu\")(headModel)\n",
        "headModel = Dropout(0.5)(headModel)\n",
        "headModel = Dense(2, activation=\"softmax\")(headModel)\n",
        "\n",
        "\n",
        "InceptionResNetV2_model= Model(inputs=baseModel.input, outputs=headModel)\n",
        "\n",
        "for layer in baseModel.layers:\n",
        "    layer.trainable = False"
      ]
    },
    {
      "cell_type": "code",
      "execution_count": 42,
      "metadata": {
        "colab": {
          "base_uri": "https://localhost:8080/"
        },
        "id": "BrzlwSOMqDjr",
        "outputId": "cb5e4a37-b866-445d-d535-17983bd612ea"
      },
      "outputs": [
        {
          "output_type": "stream",
          "name": "stdout",
          "text": [
            "[INFO] compiling model...\n",
            "[INFO] training head...\n"
          ]
        },
        {
          "output_type": "stream",
          "name": "stderr",
          "text": [
            "/usr/local/lib/python3.7/dist-packages/keras/optimizer_v2/adam.py:105: UserWarning: The `lr` argument is deprecated, use `learning_rate` instead.\n",
            "  super(Adam, self).__init__(name, **kwargs)\n",
            "/usr/local/lib/python3.7/dist-packages/ipykernel_launcher.py:21: UserWarning: `Model.fit_generator` is deprecated and will be removed in a future version. Please use `Model.fit`, which supports generators.\n"
          ]
        },
        {
          "output_type": "stream",
          "name": "stdout",
          "text": [
            "Epoch 1/25\n",
            "9/9 [==============================] - 20s 1s/step - loss: 0.7611 - accuracy: 0.8382 - val_loss: 0.6218 - val_accuracy: 0.9474\n",
            "Epoch 2/25\n",
            "9/9 [==============================] - 3s 326ms/step - loss: 0.5171 - accuracy: 0.9706 - val_loss: 0.6473 - val_accuracy: 0.9474\n",
            "Epoch 3/25\n",
            "9/9 [==============================] - 1s 133ms/step - loss: 0.3094 - accuracy: 0.9706 - val_loss: 0.4838 - val_accuracy: 0.9474\n",
            "Epoch 4/25\n",
            "9/9 [==============================] - 3s 308ms/step - loss: 0.2190 - accuracy: 0.9722 - val_loss: 0.3340 - val_accuracy: 0.9474\n",
            "Epoch 5/25\n",
            "9/9 [==============================] - 1s 125ms/step - loss: 0.1988 - accuracy: 0.9706 - val_loss: 0.2580 - val_accuracy: 0.9474\n",
            "Epoch 6/25\n",
            "9/9 [==============================] - 1s 145ms/step - loss: 0.1347 - accuracy: 0.9706 - val_loss: 0.1811 - val_accuracy: 0.9474\n",
            "Epoch 7/25\n",
            "9/9 [==============================] - 1s 125ms/step - loss: 0.1191 - accuracy: 0.9706 - val_loss: 0.2035 - val_accuracy: 0.9474\n",
            "Epoch 8/25\n",
            "9/9 [==============================] - 1s 127ms/step - loss: 0.1407 - accuracy: 0.9722 - val_loss: 0.2084 - val_accuracy: 0.9474\n",
            "Epoch 9/25\n",
            "9/9 [==============================] - 1s 127ms/step - loss: 0.1346 - accuracy: 0.9706 - val_loss: 0.2028 - val_accuracy: 0.9474\n",
            "Epoch 10/25\n",
            "9/9 [==============================] - 1s 126ms/step - loss: 0.1584 - accuracy: 0.9706 - val_loss: 0.1852 - val_accuracy: 0.9474\n",
            "Epoch 11/25\n",
            "9/9 [==============================] - 1s 124ms/step - loss: 0.0730 - accuracy: 0.9706 - val_loss: 0.1142 - val_accuracy: 0.9474\n",
            "Epoch 12/25\n",
            "9/9 [==============================] - 1s 147ms/step - loss: 0.1303 - accuracy: 0.9706 - val_loss: 0.1054 - val_accuracy: 0.9474\n",
            "Epoch 13/25\n",
            "9/9 [==============================] - 3s 299ms/step - loss: 0.0705 - accuracy: 0.9853 - val_loss: 0.1329 - val_accuracy: 0.9474\n",
            "Epoch 14/25\n",
            "9/9 [==============================] - 1s 131ms/step - loss: 0.1258 - accuracy: 0.9722 - val_loss: 0.1159 - val_accuracy: 0.9474\n",
            "Epoch 15/25\n",
            "9/9 [==============================] - 1s 123ms/step - loss: 0.0735 - accuracy: 0.9706 - val_loss: 0.1396 - val_accuracy: 0.9474\n",
            "Epoch 16/25\n",
            "9/9 [==============================] - 1s 124ms/step - loss: 0.0742 - accuracy: 0.9706 - val_loss: 0.1330 - val_accuracy: 0.9474\n",
            "Epoch 17/25\n",
            "9/9 [==============================] - 1s 145ms/step - loss: 0.0432 - accuracy: 0.9853 - val_loss: 0.1395 - val_accuracy: 0.9474\n",
            "Epoch 18/25\n",
            "9/9 [==============================] - 1s 153ms/step - loss: 0.1560 - accuracy: 0.9706 - val_loss: 0.1218 - val_accuracy: 0.9474\n",
            "Epoch 19/25\n",
            "9/9 [==============================] - 1s 145ms/step - loss: 0.0899 - accuracy: 0.9706 - val_loss: 0.0956 - val_accuracy: 0.9474\n",
            "Epoch 20/25\n",
            "9/9 [==============================] - 1s 144ms/step - loss: 0.0718 - accuracy: 0.9706 - val_loss: 0.0933 - val_accuracy: 0.9474\n",
            "Epoch 21/25\n",
            "9/9 [==============================] - 1s 147ms/step - loss: 0.0780 - accuracy: 0.9706 - val_loss: 0.1095 - val_accuracy: 0.9474\n",
            "Epoch 22/25\n",
            "9/9 [==============================] - 1s 135ms/step - loss: 0.1373 - accuracy: 0.9706 - val_loss: 0.0714 - val_accuracy: 0.9474\n",
            "Epoch 23/25\n",
            "9/9 [==============================] - 1s 123ms/step - loss: 0.0761 - accuracy: 0.9853 - val_loss: 0.0742 - val_accuracy: 0.9474\n",
            "Epoch 24/25\n",
            "9/9 [==============================] - 1s 125ms/step - loss: 0.0655 - accuracy: 0.9706 - val_loss: 0.0818 - val_accuracy: 0.9474\n",
            "Epoch 25/25\n",
            "9/9 [==============================] - 1s 125ms/step - loss: 0.0978 - accuracy: 0.9706 - val_loss: 0.0540 - val_accuracy: 0.9474\n"
          ]
        }
      ],
      "source": [
        "model_chkpt = ModelCheckpoint('best_mod.h5', save_best_only=True, monitor='accuracy')\n",
        "early_stopping = EarlyStopping(monitor='loss', restore_best_weights=False, patience=10)\n",
        "\n",
        "# initialize the initial learning rate, number of epochs to train for,\n",
        "# and batch size\n",
        "INIT_LR = 1e-3\n",
        "EPOCHS = 25\n",
        "BS = 8\n",
        "# compile our model\n",
        "print(\"[INFO] compiling model...\")\n",
        "opt = Adam(lr=INIT_LR, decay=INIT_LR / EPOCHS)\n",
        "InceptionResNetV2_model.compile(loss=\"binary_crossentropy\", optimizer=opt,\n",
        "\tmetrics=[\"accuracy\"])\n",
        "# train the head of the network\n",
        "print(\"[INFO] training head...\")\n",
        "H = InceptionResNetV2_model.fit_generator(\n",
        "\ttrAug.flow(trainX, trainY, batch_size=BS),\n",
        "\tsteps_per_epoch=len(trainX) // BS,\n",
        "\tvalidation_data=(testX, testY),\n",
        "\tvalidation_steps=len(testX) // BS,\n",
        "\tepochs=EPOCHS,callbacks=[early_stopping,model_chkpt])"
      ]
    },
    {
      "cell_type": "code",
      "execution_count": 43,
      "metadata": {
        "colab": {
          "base_uri": "https://localhost:8080/",
          "height": 701
        },
        "id": "cXnKIhc1qDmz",
        "outputId": "27c96405-b9e3-43ac-98bd-85029af59ff6"
      },
      "outputs": [
        {
          "output_type": "stream",
          "name": "stdout",
          "text": [
            "[INFO] evaluating network...\n",
            "              precision    recall  f1-score   support\n",
            "\n",
            "    infected       0.95      1.00      0.97        18\n",
            "      normal       0.00      0.00      0.00         1\n",
            "\n",
            "    accuracy                           0.95        19\n",
            "   macro avg       0.47      0.50      0.49        19\n",
            "weighted avg       0.90      0.95      0.92        19\n",
            "\n",
            "[[18  0]\n",
            " [ 1  0]]\n",
            "acc: 0.9474\n",
            "sensitivity: 1.0000\n",
            "specificity: 0.0000\n"
          ]
        },
        {
          "output_type": "stream",
          "name": "stderr",
          "text": [
            "/usr/local/lib/python3.7/dist-packages/sklearn/metrics/_classification.py:1318: UndefinedMetricWarning: Precision and F-score are ill-defined and being set to 0.0 in labels with no predicted samples. Use `zero_division` parameter to control this behavior.\n",
            "  _warn_prf(average, modifier, msg_start, len(result))\n",
            "/usr/local/lib/python3.7/dist-packages/sklearn/metrics/_classification.py:1318: UndefinedMetricWarning: Precision and F-score are ill-defined and being set to 0.0 in labels with no predicted samples. Use `zero_division` parameter to control this behavior.\n",
            "  _warn_prf(average, modifier, msg_start, len(result))\n",
            "/usr/local/lib/python3.7/dist-packages/sklearn/metrics/_classification.py:1318: UndefinedMetricWarning: Precision and F-score are ill-defined and being set to 0.0 in labels with no predicted samples. Use `zero_division` parameter to control this behavior.\n",
            "  _warn_prf(average, modifier, msg_start, len(result))\n"
          ]
        },
        {
          "output_type": "execute_result",
          "data": {
            "text/plain": [
              "<matplotlib.legend.Legend at 0x7f2749bf4790>"
            ]
          },
          "metadata": {},
          "execution_count": 43
        },
        {
          "output_type": "display_data",
          "data": {
            "text/plain": [
              "<Figure size 432x288 with 1 Axes>"
            ],
            "image/png": "[encoded data removed]"
          },
          "metadata": {}
        }
      ],
      "source": [
        "# make predictions on the testing set\n",
        "print(\"[INFO] evaluating network...\")\n",
        "predIdxs = InceptionResNetV2_model.predict(testX, batch_size=BS)\n",
        "# for each image in the testing set we need to find the index of the\n",
        "# label with corresponding largest predicted probability\n",
        "predIdxs = np.argmax(predIdxs, axis=1)\n",
        "# show a nicely formatted classification report\n",
        "print(classification_report(testY.argmax(axis=1), predIdxs,\n",
        "\ttarget_names=lb.classes_))\n",
        "\n",
        "\n",
        "\n",
        "  # compute the confusion matrix and and use it to derive the raw\n",
        "# accuracy, sensitivity, and specificity\n",
        "cm = confusion_matrix(testY.argmax(axis=1), predIdxs)\n",
        "total = sum(sum(cm))\n",
        "acc = (cm[0, 0] + cm[1, 1]) / total\n",
        "sensitivity = cm[0, 0] / (cm[0, 0] + cm[0, 1])\n",
        "specificity = cm[1, 1] / (cm[1, 0] + cm[1, 1])\n",
        "# show the confusion matrix, accuracy, sensitivity, and specificity\n",
        "print(cm)\n",
        "print(\"acc: {:.4f}\".format(acc))\n",
        "print(\"sensitivity: {:.4f}\".format(sensitivity))\n",
        "print(\"specificity: {:.4f}\".format(specificity))\n",
        "\n",
        "\n",
        "# plot the training loss and accuracy\n",
        "N = EPOCHS\n",
        "plt.style.use(\"ggplot\")\n",
        "plt.figure()\n",
        "plt.plot(np.arange(0, EPOCHS), H.history[\"loss\"], label=\"train_loss\")\n",
        "plt.plot(np.arange(0, EPOCHS), H.history[\"val_loss\"], label=\"val_loss\")\n",
        "plt.plot(np.arange(0, EPOCHS), H.history[\"accuracy\"], label=\"train_acc\")\n",
        "plt.plot(np.arange(0, EPOCHS), H.history[\"val_accuracy\"], label=\"val_acc\")\n",
        "plt.title(\"Training Loss and Accuracy on COVID-19 Dataset\")\n",
        "plt.xlabel(\"Epoch #\")\n",
        "plt.ylabel(\"Loss/Accuracy\")\n",
        "plt.legend(loc=\"lower left\")\n",
        "#plt.savefig(args[\"plot\"])"
      ]
    },
    {
      "cell_type": "code",
      "execution_count": null,
      "metadata": {
        "id": "336ODMIBqDpw"
      },
      "outputs": [],
      "source": [
        ""
      ]
    },
    {
      "cell_type": "code",
      "execution_count": null,
      "metadata": {
        "id": "SwonyyIaqDs7"
      },
      "outputs": [],
      "source": [
        ""
      ]
    },
    {
      "cell_type": "code",
      "execution_count": null,
      "metadata": {
        "id": "M-AKXwWUqDvn"
      },
      "outputs": [],
      "source": [
        ""
      ]
    },
    {
      "cell_type": "code",
      "execution_count": null,
      "metadata": {
        "id": "rsYDKa2pqDyj"
      },
      "outputs": [],
      "source": [
        ""
      ]
    },
    {
      "cell_type": "code",
      "execution_count": null,
      "metadata": {
        "id": "Tc_WfyCoqD2L"
      },
      "outputs": [],
      "source": [
        ""
      ]
    }
  ],
  "metadata": {
    "colab": {
      "name": "7089cem_ANN.ipynb",
      "provenance": [],
      "collapsed_sections": []
    },
    "gpuClass": "standard",
    "kernelspec": {
      "display_name": "Python 3",
      "name": "python3"
    },
    "language_info": {
      "name": "python"
    },
    "accelerator": "GPU"
  },
  "nbformat": 4,
  "nbformat_minor": 0
}